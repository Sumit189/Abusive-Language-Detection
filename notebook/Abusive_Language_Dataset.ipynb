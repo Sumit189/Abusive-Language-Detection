{
  "nbformat": 4,
  "nbformat_minor": 0,
  "metadata": {
    "colab": {
      "name": "Abusive Language Dataset.ipynb",
      "provenance": [],
      "collapsed_sections": [],
      "toc_visible": true
    },
    "kernelspec": {
      "display_name": "Python 3",
      "name": "python3"
    },
    "language_info": {
      "name": "python"
    }
  },
  "cells": [
    {
      "cell_type": "code",
      "metadata": {
        "id": "6yK0siQ4iYYf"
      },
      "source": [
        "import pandas as pd"
      ],
      "execution_count": 1,
      "outputs": []
    },
    {
      "cell_type": "code",
      "metadata": {
        "colab": {
          "base_uri": "https://localhost:8080/"
        },
        "id": "Aj95s4mprLGI",
        "outputId": "eeaf7003-e298-416d-c579-fec5fe303a37"
      },
      "source": [
        "!pip install tweet-preprocessor\n",
        "import preprocessor as p"
      ],
      "execution_count": 2,
      "outputs": [
        {
          "output_type": "stream",
          "text": [
            "Collecting tweet-preprocessor\n",
            "  Downloading https://files.pythonhosted.org/packages/17/9d/71bd016a9edcef8860c607e531f30bd09b13103c7951ae73dd2bf174163c/tweet_preprocessor-0.6.0-py3-none-any.whl\n",
            "Installing collected packages: tweet-preprocessor\n",
            "Successfully installed tweet-preprocessor-0.6.0\n"
          ],
          "name": "stdout"
        }
      ]
    },
    {
      "cell_type": "code",
      "metadata": {
        "id": "q4MwkhYLjJwM"
      },
      "source": [
        "! pip install -q kaggle\n",
        "from google.colab import files\n",
        "files.upload()"
      ],
      "execution_count": null,
      "outputs": []
    },
    {
      "cell_type": "code",
      "metadata": {
        "id": "LfcHlRytjWHJ"
      },
      "source": [
        "! mkdir ~/.kaggle\n",
        "! cp kaggle.json ~/.kaggle/\n",
        "! chmod 600 ~/.kaggle/kaggle.json"
      ],
      "execution_count": 4,
      "outputs": []
    },
    {
      "cell_type": "code",
      "metadata": {
        "id": "CozMSC2pXc12"
      },
      "source": [
        "!cp /content/drive/MyDrive/ExpertSystem/clean_data.csv /content/"
      ],
      "execution_count": 5,
      "outputs": []
    },
    {
      "cell_type": "code",
      "metadata": {
        "id": "PZdNyhdZXfDm"
      },
      "source": [
        "df_0 = pd.read_csv(\"/content/clean_data.csv\")"
      ],
      "execution_count": 6,
      "outputs": []
    },
    {
      "cell_type": "code",
      "metadata": {
        "colab": {
          "base_uri": "https://localhost:8080/",
          "height": 195
        },
        "id": "GBUqBXkDXfGV",
        "outputId": "1f2406f9-8f71-4806-a726-7107225588f1"
      },
      "source": [
        "df_0.head()"
      ],
      "execution_count": 7,
      "outputs": [
        {
          "output_type": "execute_result",
          "data": {
            "text/html": [
              "<div>\n",
              "<style scoped>\n",
              "    .dataframe tbody tr th:only-of-type {\n",
              "        vertical-align: middle;\n",
              "    }\n",
              "\n",
              "    .dataframe tbody tr th {\n",
              "        vertical-align: top;\n",
              "    }\n",
              "\n",
              "    .dataframe thead th {\n",
              "        text-align: right;\n",
              "    }\n",
              "</style>\n",
              "<table border=\"1\" class=\"dataframe\">\n",
              "  <thead>\n",
              "    <tr style=\"text-align: right;\">\n",
              "      <th></th>\n",
              "      <th>is_offensive</th>\n",
              "      <th>text</th>\n",
              "    </tr>\n",
              "  </thead>\n",
              "  <tbody>\n",
              "    <tr>\n",
              "      <th>0</th>\n",
              "      <td>0</td>\n",
              "      <td>Then go to the village pump and suggest they c...</td>\n",
              "    </tr>\n",
              "    <tr>\n",
              "      <th>1</th>\n",
              "      <td>1</td>\n",
              "      <td>ANTI GREEK NATIONALIS -WIKIPEDIA \\n\\nHi Alexik...</td>\n",
              "    </tr>\n",
              "    <tr>\n",
              "      <th>2</th>\n",
              "      <td>1</td>\n",
              "      <td>Dis hoe wasnt dis violent on Lottery Ticket 😂😂</td>\n",
              "    </tr>\n",
              "    <tr>\n",
              "      <th>3</th>\n",
              "      <td>0</td>\n",
              "      <td>It is better for Atabay not helping the banned...</td>\n",
              "    </tr>\n",
              "    <tr>\n",
              "      <th>4</th>\n",
              "      <td>0</td>\n",
              "      <td>\"is in CamelCase.  \"\"SiCKO\"\" is not CamelCase,...</td>\n",
              "    </tr>\n",
              "  </tbody>\n",
              "</table>\n",
              "</div>"
            ],
            "text/plain": [
              "   is_offensive                                               text\n",
              "0             0  Then go to the village pump and suggest they c...\n",
              "1             1  ANTI GREEK NATIONALIS -WIKIPEDIA \\n\\nHi Alexik...\n",
              "2             1     Dis hoe wasnt dis violent on Lottery Ticket 😂😂\n",
              "3             0  It is better for Atabay not helping the banned...\n",
              "4             0  \"is in CamelCase.  \"\"SiCKO\"\" is not CamelCase,..."
            ]
          },
          "metadata": {
            "tags": []
          },
          "execution_count": 7
        }
      ]
    },
    {
      "cell_type": "code",
      "metadata": {
        "colab": {
          "base_uri": "https://localhost:8080/"
        },
        "id": "EJmMZ442XfJC",
        "outputId": "aeb35986-67e7-461f-b6f2-d58ef0dfafd4"
      },
      "source": [
        "len(df_0.is_offensive)"
      ],
      "execution_count": 8,
      "outputs": [
        {
          "output_type": "execute_result",
          "data": {
            "text/plain": [
              "184354"
            ]
          },
          "metadata": {
            "tags": []
          },
          "execution_count": 8
        }
      ]
    },
    {
      "cell_type": "code",
      "metadata": {
        "id": "1Q0EXz_MXoyQ"
      },
      "source": [
        "text_overall = []\n",
        "label_overall = []"
      ],
      "execution_count": 9,
      "outputs": []
    },
    {
      "cell_type": "code",
      "metadata": {
        "id": "PGvADEdCXo1C"
      },
      "source": [
        "for i in range(len(df_0.is_offensive)):\n",
        "  text_overall.append(df_0['text'][i])\n",
        "  label_overall.append(df_0['is_offensive'][i])"
      ],
      "execution_count": 10,
      "outputs": []
    },
    {
      "cell_type": "code",
      "metadata": {
        "colab": {
          "base_uri": "https://localhost:8080/"
        },
        "id": "1IrwfunEXo4z",
        "outputId": "52bd3d36-80c0-45bf-bf38-1996d22f0c09"
      },
      "source": [
        "count_n = 0\n",
        "count_h = 0\n",
        "for val in label_overall:\n",
        "  if val == 0:\n",
        "    count_n += 1\n",
        "  else:\n",
        "    count_h += 1\n",
        "\n",
        "print(\"Normal: {}\".format(count_n))\n",
        "print(\"Abusive: {}\".format(count_h))"
      ],
      "execution_count": 11,
      "outputs": [
        {
          "output_type": "stream",
          "text": [
            "Normal: 147509\n",
            "Abusive: 36845\n"
          ],
          "name": "stdout"
        }
      ]
    },
    {
      "cell_type": "code",
      "metadata": {
        "colab": {
          "base_uri": "https://localhost:8080/"
        },
        "id": "xIBstUoHjlQ2",
        "outputId": "9b1f0d1e-aa8c-46e7-a8d3-a1e2086a9f0f"
      },
      "source": [
        "!kaggle datasets download -d vkrahul/twitter-hate-speech"
      ],
      "execution_count": 12,
      "outputs": [
        {
          "output_type": "stream",
          "text": [
            "Downloading twitter-hate-speech.zip to /content\n",
            "\r  0% 0.00/1.89M [00:00<?, ?B/s]\n",
            "\r100% 1.89M/1.89M [00:00<00:00, 64.0MB/s]\n"
          ],
          "name": "stdout"
        }
      ]
    },
    {
      "cell_type": "code",
      "metadata": {
        "colab": {
          "base_uri": "https://localhost:8080/"
        },
        "id": "qQFy1hgRjmdP",
        "outputId": "97e7f776-cad0-4129-e3e2-fdc7663fcba3"
      },
      "source": [
        "!unzip /content/twitter-hate-speech.zip"
      ],
      "execution_count": 13,
      "outputs": [
        {
          "output_type": "stream",
          "text": [
            "Archive:  /content/twitter-hate-speech.zip\n",
            "  inflating: test_tweets_anuFYb8.csv  \n",
            "  inflating: train_E6oV3lV.csv       \n"
          ],
          "name": "stdout"
        }
      ]
    },
    {
      "cell_type": "code",
      "metadata": {
        "id": "mFvaBDC6jn1W"
      },
      "source": [
        "df2 = pd.read_csv('/content/train_E6oV3lV.csv')"
      ],
      "execution_count": 14,
      "outputs": []
    },
    {
      "cell_type": "code",
      "metadata": {
        "colab": {
          "base_uri": "https://localhost:8080/",
          "height": 195
        },
        "id": "6-yOuLB3jukE",
        "outputId": "2a4c6361-97ff-4b42-9a25-f29fcbb2f0f9"
      },
      "source": [
        "df2.head()"
      ],
      "execution_count": 15,
      "outputs": [
        {
          "output_type": "execute_result",
          "data": {
            "text/html": [
              "<div>\n",
              "<style scoped>\n",
              "    .dataframe tbody tr th:only-of-type {\n",
              "        vertical-align: middle;\n",
              "    }\n",
              "\n",
              "    .dataframe tbody tr th {\n",
              "        vertical-align: top;\n",
              "    }\n",
              "\n",
              "    .dataframe thead th {\n",
              "        text-align: right;\n",
              "    }\n",
              "</style>\n",
              "<table border=\"1\" class=\"dataframe\">\n",
              "  <thead>\n",
              "    <tr style=\"text-align: right;\">\n",
              "      <th></th>\n",
              "      <th>id</th>\n",
              "      <th>label</th>\n",
              "      <th>tweet</th>\n",
              "    </tr>\n",
              "  </thead>\n",
              "  <tbody>\n",
              "    <tr>\n",
              "      <th>0</th>\n",
              "      <td>1</td>\n",
              "      <td>0</td>\n",
              "      <td>@user when a father is dysfunctional and is s...</td>\n",
              "    </tr>\n",
              "    <tr>\n",
              "      <th>1</th>\n",
              "      <td>2</td>\n",
              "      <td>0</td>\n",
              "      <td>@user @user thanks for #lyft credit i can't us...</td>\n",
              "    </tr>\n",
              "    <tr>\n",
              "      <th>2</th>\n",
              "      <td>3</td>\n",
              "      <td>0</td>\n",
              "      <td>bihday your majesty</td>\n",
              "    </tr>\n",
              "    <tr>\n",
              "      <th>3</th>\n",
              "      <td>4</td>\n",
              "      <td>0</td>\n",
              "      <td>#model   i love u take with u all the time in ...</td>\n",
              "    </tr>\n",
              "    <tr>\n",
              "      <th>4</th>\n",
              "      <td>5</td>\n",
              "      <td>0</td>\n",
              "      <td>factsguide: society now    #motivation</td>\n",
              "    </tr>\n",
              "  </tbody>\n",
              "</table>\n",
              "</div>"
            ],
            "text/plain": [
              "   id  label                                              tweet\n",
              "0   1      0   @user when a father is dysfunctional and is s...\n",
              "1   2      0  @user @user thanks for #lyft credit i can't us...\n",
              "2   3      0                                bihday your majesty\n",
              "3   4      0  #model   i love u take with u all the time in ...\n",
              "4   5      0             factsguide: society now    #motivation"
            ]
          },
          "metadata": {
            "tags": []
          },
          "execution_count": 15
        }
      ]
    },
    {
      "cell_type": "code",
      "metadata": {
        "id": "wJ9ObThkjvUn"
      },
      "source": [
        "df2 = df2.drop(columns=['id'])"
      ],
      "execution_count": 16,
      "outputs": []
    },
    {
      "cell_type": "code",
      "metadata": {
        "colab": {
          "base_uri": "https://localhost:8080/",
          "height": 195
        },
        "id": "Plb-1uWkj6my",
        "outputId": "9ad5729f-faa3-4c1f-bc51-746870c70391"
      },
      "source": [
        "df2.head()"
      ],
      "execution_count": 17,
      "outputs": [
        {
          "output_type": "execute_result",
          "data": {
            "text/html": [
              "<div>\n",
              "<style scoped>\n",
              "    .dataframe tbody tr th:only-of-type {\n",
              "        vertical-align: middle;\n",
              "    }\n",
              "\n",
              "    .dataframe tbody tr th {\n",
              "        vertical-align: top;\n",
              "    }\n",
              "\n",
              "    .dataframe thead th {\n",
              "        text-align: right;\n",
              "    }\n",
              "</style>\n",
              "<table border=\"1\" class=\"dataframe\">\n",
              "  <thead>\n",
              "    <tr style=\"text-align: right;\">\n",
              "      <th></th>\n",
              "      <th>label</th>\n",
              "      <th>tweet</th>\n",
              "    </tr>\n",
              "  </thead>\n",
              "  <tbody>\n",
              "    <tr>\n",
              "      <th>0</th>\n",
              "      <td>0</td>\n",
              "      <td>@user when a father is dysfunctional and is s...</td>\n",
              "    </tr>\n",
              "    <tr>\n",
              "      <th>1</th>\n",
              "      <td>0</td>\n",
              "      <td>@user @user thanks for #lyft credit i can't us...</td>\n",
              "    </tr>\n",
              "    <tr>\n",
              "      <th>2</th>\n",
              "      <td>0</td>\n",
              "      <td>bihday your majesty</td>\n",
              "    </tr>\n",
              "    <tr>\n",
              "      <th>3</th>\n",
              "      <td>0</td>\n",
              "      <td>#model   i love u take with u all the time in ...</td>\n",
              "    </tr>\n",
              "    <tr>\n",
              "      <th>4</th>\n",
              "      <td>0</td>\n",
              "      <td>factsguide: society now    #motivation</td>\n",
              "    </tr>\n",
              "  </tbody>\n",
              "</table>\n",
              "</div>"
            ],
            "text/plain": [
              "   label                                              tweet\n",
              "0      0   @user when a father is dysfunctional and is s...\n",
              "1      0  @user @user thanks for #lyft credit i can't us...\n",
              "2      0                                bihday your majesty\n",
              "3      0  #model   i love u take with u all the time in ...\n",
              "4      0             factsguide: society now    #motivation"
            ]
          },
          "metadata": {
            "tags": []
          },
          "execution_count": 17
        }
      ]
    },
    {
      "cell_type": "code",
      "metadata": {
        "colab": {
          "base_uri": "https://localhost:8080/"
        },
        "id": "0bvg5456kARE",
        "outputId": "91734187-e9bd-4832-dcf0-e08dd7ea390f"
      },
      "source": [
        "df2.label.unique()"
      ],
      "execution_count": 18,
      "outputs": [
        {
          "output_type": "execute_result",
          "data": {
            "text/plain": [
              "array([0, 1])"
            ]
          },
          "metadata": {
            "tags": []
          },
          "execution_count": 18
        }
      ]
    },
    {
      "cell_type": "code",
      "metadata": {
        "id": "viOhRKoxqyjJ"
      },
      "source": [
        "clean_text  = []\n",
        "labels = []\n",
        "for i in range(len(df2['tweet'])):\n",
        "  clean_ = p.clean(df2['tweet'][i])\n",
        "  clean_text.append(clean_)\n",
        "  labels.append(df2['label'][i])"
      ],
      "execution_count": 19,
      "outputs": []
    },
    {
      "cell_type": "code",
      "metadata": {
        "id": "b4kfwF7vrOmy"
      },
      "source": [
        "df2 = pd.DataFrame(list(zip(labels, clean_text)),\n",
        "                  columns = ['label','tweet'])"
      ],
      "execution_count": 20,
      "outputs": []
    },
    {
      "cell_type": "code",
      "metadata": {
        "colab": {
          "base_uri": "https://localhost:8080/",
          "height": 195
        },
        "id": "SRVkl7psrZGw",
        "outputId": "58cb78ba-f1a8-41d8-dfa1-ad522cd230f1"
      },
      "source": [
        "df2.head()"
      ],
      "execution_count": 21,
      "outputs": [
        {
          "output_type": "execute_result",
          "data": {
            "text/html": [
              "<div>\n",
              "<style scoped>\n",
              "    .dataframe tbody tr th:only-of-type {\n",
              "        vertical-align: middle;\n",
              "    }\n",
              "\n",
              "    .dataframe tbody tr th {\n",
              "        vertical-align: top;\n",
              "    }\n",
              "\n",
              "    .dataframe thead th {\n",
              "        text-align: right;\n",
              "    }\n",
              "</style>\n",
              "<table border=\"1\" class=\"dataframe\">\n",
              "  <thead>\n",
              "    <tr style=\"text-align: right;\">\n",
              "      <th></th>\n",
              "      <th>label</th>\n",
              "      <th>tweet</th>\n",
              "    </tr>\n",
              "  </thead>\n",
              "  <tbody>\n",
              "    <tr>\n",
              "      <th>0</th>\n",
              "      <td>0</td>\n",
              "      <td>when a father is dysfunctional and is so selfi...</td>\n",
              "    </tr>\n",
              "    <tr>\n",
              "      <th>1</th>\n",
              "      <td>0</td>\n",
              "      <td>thanks for credit i can't use cause they don't...</td>\n",
              "    </tr>\n",
              "    <tr>\n",
              "      <th>2</th>\n",
              "      <td>0</td>\n",
              "      <td>bihday your majesty</td>\n",
              "    </tr>\n",
              "    <tr>\n",
              "      <th>3</th>\n",
              "      <td>0</td>\n",
              "      <td>i love u take with u all the time in ur!!!</td>\n",
              "    </tr>\n",
              "    <tr>\n",
              "      <th>4</th>\n",
              "      <td>0</td>\n",
              "      <td>factsguide: society now</td>\n",
              "    </tr>\n",
              "  </tbody>\n",
              "</table>\n",
              "</div>"
            ],
            "text/plain": [
              "   label                                              tweet\n",
              "0      0  when a father is dysfunctional and is so selfi...\n",
              "1      0  thanks for credit i can't use cause they don't...\n",
              "2      0                                bihday your majesty\n",
              "3      0         i love u take with u all the time in ur!!!\n",
              "4      0                            factsguide: society now"
            ]
          },
          "metadata": {
            "tags": []
          },
          "execution_count": 21
        }
      ]
    },
    {
      "cell_type": "code",
      "metadata": {
        "id": "eDIBuuC2qAlp"
      },
      "source": [
        "for i in range(len(df2['label'])):\n",
        "  if df2.label[i] == 1:\n",
        "    label_overall.append(df2['label'][i])\n",
        "    text_overall.append(df2['tweet'][i])"
      ],
      "execution_count": 22,
      "outputs": []
    },
    {
      "cell_type": "code",
      "metadata": {
        "colab": {
          "base_uri": "https://localhost:8080/"
        },
        "id": "y8oJW6VM75sL",
        "outputId": "0dc64be9-55fe-4e81-a90d-67cb4aefaf38"
      },
      "source": [
        "len(label_overall)"
      ],
      "execution_count": 23,
      "outputs": [
        {
          "output_type": "execute_result",
          "data": {
            "text/plain": [
              "186596"
            ]
          },
          "metadata": {
            "tags": []
          },
          "execution_count": 23
        }
      ]
    },
    {
      "cell_type": "code",
      "metadata": {
        "colab": {
          "base_uri": "https://localhost:8080/"
        },
        "id": "co18bgTy78GP",
        "outputId": "6c21ced2-af30-4b88-8978-882cf0192892"
      },
      "source": [
        "len(text_overall)"
      ],
      "execution_count": 24,
      "outputs": [
        {
          "output_type": "execute_result",
          "data": {
            "text/plain": [
              "186596"
            ]
          },
          "metadata": {
            "tags": []
          },
          "execution_count": 24
        }
      ]
    },
    {
      "cell_type": "code",
      "metadata": {
        "colab": {
          "base_uri": "https://localhost:8080/"
        },
        "id": "ulLPJMHw7_HH",
        "outputId": "f4ae4a9c-fff3-4aea-abcf-d51b81af7063"
      },
      "source": [
        "count_n = 0\n",
        "count_h = 0\n",
        "for val in label_overall:\n",
        "  if val == 0:\n",
        "    count_n += 1\n",
        "  else:\n",
        "    count_h += 1\n",
        "\n",
        "print(\"Normal: {}\".format(count_n))\n",
        "print(\"Abusive: {}\".format(count_h))"
      ],
      "execution_count": 25,
      "outputs": [
        {
          "output_type": "stream",
          "text": [
            "Normal: 147509\n",
            "Abusive: 39087\n"
          ],
          "name": "stdout"
        }
      ]
    },
    {
      "cell_type": "code",
      "metadata": {
        "colab": {
          "base_uri": "https://localhost:8080/"
        },
        "id": "upU_0zRCkDxt",
        "outputId": "4fcf1768-991f-4bbf-bf35-020b44795832"
      },
      "source": [
        "!git clone \"https://github.com/t-davidson/hate-speech-and-offensive-language.git\""
      ],
      "execution_count": 26,
      "outputs": [
        {
          "output_type": "stream",
          "text": [
            "Cloning into 'hate-speech-and-offensive-language'...\n",
            "remote: Enumerating objects: 32, done.\u001b[K\n",
            "remote: Total 32 (delta 0), reused 0 (delta 0), pack-reused 32\u001b[K\n",
            "Unpacking objects: 100% (32/32), done.\n"
          ],
          "name": "stdout"
        }
      ]
    },
    {
      "cell_type": "code",
      "metadata": {
        "id": "nS8TTjXxkNCF"
      },
      "source": [
        "df3 = pd.read_csv('/content/hate-speech-and-offensive-language/data/labeled_data.csv')"
      ],
      "execution_count": 27,
      "outputs": []
    },
    {
      "cell_type": "code",
      "metadata": {
        "colab": {
          "base_uri": "https://localhost:8080/",
          "height": 195
        },
        "id": "6DBopQbAkcq7",
        "outputId": "31c82868-1abc-45bb-8496-6c2fecc84b60"
      },
      "source": [
        "df3.head()"
      ],
      "execution_count": 28,
      "outputs": [
        {
          "output_type": "execute_result",
          "data": {
            "text/html": [
              "<div>\n",
              "<style scoped>\n",
              "    .dataframe tbody tr th:only-of-type {\n",
              "        vertical-align: middle;\n",
              "    }\n",
              "\n",
              "    .dataframe tbody tr th {\n",
              "        vertical-align: top;\n",
              "    }\n",
              "\n",
              "    .dataframe thead th {\n",
              "        text-align: right;\n",
              "    }\n",
              "</style>\n",
              "<table border=\"1\" class=\"dataframe\">\n",
              "  <thead>\n",
              "    <tr style=\"text-align: right;\">\n",
              "      <th></th>\n",
              "      <th>Unnamed: 0</th>\n",
              "      <th>count</th>\n",
              "      <th>hate_speech</th>\n",
              "      <th>offensive_language</th>\n",
              "      <th>neither</th>\n",
              "      <th>class</th>\n",
              "      <th>tweet</th>\n",
              "    </tr>\n",
              "  </thead>\n",
              "  <tbody>\n",
              "    <tr>\n",
              "      <th>0</th>\n",
              "      <td>0</td>\n",
              "      <td>3</td>\n",
              "      <td>0</td>\n",
              "      <td>0</td>\n",
              "      <td>3</td>\n",
              "      <td>2</td>\n",
              "      <td>!!! RT @mayasolovely: As a woman you shouldn't...</td>\n",
              "    </tr>\n",
              "    <tr>\n",
              "      <th>1</th>\n",
              "      <td>1</td>\n",
              "      <td>3</td>\n",
              "      <td>0</td>\n",
              "      <td>3</td>\n",
              "      <td>0</td>\n",
              "      <td>1</td>\n",
              "      <td>!!!!! RT @mleew17: boy dats cold...tyga dwn ba...</td>\n",
              "    </tr>\n",
              "    <tr>\n",
              "      <th>2</th>\n",
              "      <td>2</td>\n",
              "      <td>3</td>\n",
              "      <td>0</td>\n",
              "      <td>3</td>\n",
              "      <td>0</td>\n",
              "      <td>1</td>\n",
              "      <td>!!!!!!! RT @UrKindOfBrand Dawg!!!! RT @80sbaby...</td>\n",
              "    </tr>\n",
              "    <tr>\n",
              "      <th>3</th>\n",
              "      <td>3</td>\n",
              "      <td>3</td>\n",
              "      <td>0</td>\n",
              "      <td>2</td>\n",
              "      <td>1</td>\n",
              "      <td>1</td>\n",
              "      <td>!!!!!!!!! RT @C_G_Anderson: @viva_based she lo...</td>\n",
              "    </tr>\n",
              "    <tr>\n",
              "      <th>4</th>\n",
              "      <td>4</td>\n",
              "      <td>6</td>\n",
              "      <td>0</td>\n",
              "      <td>6</td>\n",
              "      <td>0</td>\n",
              "      <td>1</td>\n",
              "      <td>!!!!!!!!!!!!! RT @ShenikaRoberts: The shit you...</td>\n",
              "    </tr>\n",
              "  </tbody>\n",
              "</table>\n",
              "</div>"
            ],
            "text/plain": [
              "   Unnamed: 0  count  ...  class                                              tweet\n",
              "0           0      3  ...      2  !!! RT @mayasolovely: As a woman you shouldn't...\n",
              "1           1      3  ...      1  !!!!! RT @mleew17: boy dats cold...tyga dwn ba...\n",
              "2           2      3  ...      1  !!!!!!! RT @UrKindOfBrand Dawg!!!! RT @80sbaby...\n",
              "3           3      3  ...      1  !!!!!!!!! RT @C_G_Anderson: @viva_based she lo...\n",
              "4           4      6  ...      1  !!!!!!!!!!!!! RT @ShenikaRoberts: The shit you...\n",
              "\n",
              "[5 rows x 7 columns]"
            ]
          },
          "metadata": {
            "tags": []
          },
          "execution_count": 28
        }
      ]
    },
    {
      "cell_type": "code",
      "metadata": {
        "id": "R3-C75IakdtW"
      },
      "source": [
        "df3 = df3.drop(columns=['Unnamed: 0','count', 'hate_speech', 'offensive_language','neither'])"
      ],
      "execution_count": 29,
      "outputs": []
    },
    {
      "cell_type": "code",
      "metadata": {
        "colab": {
          "base_uri": "https://localhost:8080/",
          "height": 195
        },
        "id": "Vk30MQIkkggo",
        "outputId": "ae216f4d-0753-42b9-f869-6c9d42501334"
      },
      "source": [
        "df3.head()"
      ],
      "execution_count": 30,
      "outputs": [
        {
          "output_type": "execute_result",
          "data": {
            "text/html": [
              "<div>\n",
              "<style scoped>\n",
              "    .dataframe tbody tr th:only-of-type {\n",
              "        vertical-align: middle;\n",
              "    }\n",
              "\n",
              "    .dataframe tbody tr th {\n",
              "        vertical-align: top;\n",
              "    }\n",
              "\n",
              "    .dataframe thead th {\n",
              "        text-align: right;\n",
              "    }\n",
              "</style>\n",
              "<table border=\"1\" class=\"dataframe\">\n",
              "  <thead>\n",
              "    <tr style=\"text-align: right;\">\n",
              "      <th></th>\n",
              "      <th>class</th>\n",
              "      <th>tweet</th>\n",
              "    </tr>\n",
              "  </thead>\n",
              "  <tbody>\n",
              "    <tr>\n",
              "      <th>0</th>\n",
              "      <td>2</td>\n",
              "      <td>!!! RT @mayasolovely: As a woman you shouldn't...</td>\n",
              "    </tr>\n",
              "    <tr>\n",
              "      <th>1</th>\n",
              "      <td>1</td>\n",
              "      <td>!!!!! RT @mleew17: boy dats cold...tyga dwn ba...</td>\n",
              "    </tr>\n",
              "    <tr>\n",
              "      <th>2</th>\n",
              "      <td>1</td>\n",
              "      <td>!!!!!!! RT @UrKindOfBrand Dawg!!!! RT @80sbaby...</td>\n",
              "    </tr>\n",
              "    <tr>\n",
              "      <th>3</th>\n",
              "      <td>1</td>\n",
              "      <td>!!!!!!!!! RT @C_G_Anderson: @viva_based she lo...</td>\n",
              "    </tr>\n",
              "    <tr>\n",
              "      <th>4</th>\n",
              "      <td>1</td>\n",
              "      <td>!!!!!!!!!!!!! RT @ShenikaRoberts: The shit you...</td>\n",
              "    </tr>\n",
              "  </tbody>\n",
              "</table>\n",
              "</div>"
            ],
            "text/plain": [
              "   class                                              tweet\n",
              "0      2  !!! RT @mayasolovely: As a woman you shouldn't...\n",
              "1      1  !!!!! RT @mleew17: boy dats cold...tyga dwn ba...\n",
              "2      1  !!!!!!! RT @UrKindOfBrand Dawg!!!! RT @80sbaby...\n",
              "3      1  !!!!!!!!! RT @C_G_Anderson: @viva_based she lo...\n",
              "4      1  !!!!!!!!!!!!! RT @ShenikaRoberts: The shit you..."
            ]
          },
          "metadata": {
            "tags": []
          },
          "execution_count": 30
        }
      ]
    },
    {
      "cell_type": "code",
      "metadata": {
        "colab": {
          "base_uri": "https://localhost:8080/"
        },
        "id": "RLrLWjt1qRmg",
        "outputId": "42cbb36c-0434-4cde-c1a5-8ef84134a22f"
      },
      "source": [
        "df3['class'].unique()"
      ],
      "execution_count": 31,
      "outputs": [
        {
          "output_type": "execute_result",
          "data": {
            "text/plain": [
              "array([2, 1, 0])"
            ]
          },
          "metadata": {
            "tags": []
          },
          "execution_count": 31
        }
      ]
    },
    {
      "cell_type": "code",
      "metadata": {
        "id": "b9d6U84-riVA"
      },
      "source": [
        "clean_text  = []\n",
        "labels = []\n",
        "for i in range(len(df3['tweet'])):\n",
        "  clean_ = p.clean(df3['tweet'][i])\n",
        "  clean_text.append(clean_)\n",
        "  labels.append(df3['class'][i])"
      ],
      "execution_count": 32,
      "outputs": []
    },
    {
      "cell_type": "code",
      "metadata": {
        "id": "5-6xv91IrrSQ"
      },
      "source": [
        "df3 = pd.DataFrame(list(zip(labels, clean_text)),\n",
        "                  columns = ['label','tweet'])"
      ],
      "execution_count": 33,
      "outputs": []
    },
    {
      "cell_type": "code",
      "metadata": {
        "colab": {
          "base_uri": "https://localhost:8080/",
          "height": 195
        },
        "id": "VYTokaUGrs8G",
        "outputId": "85ae92ea-8613-4b0f-87ff-041f8fef232a"
      },
      "source": [
        "df3.head()"
      ],
      "execution_count": 34,
      "outputs": [
        {
          "output_type": "execute_result",
          "data": {
            "text/html": [
              "<div>\n",
              "<style scoped>\n",
              "    .dataframe tbody tr th:only-of-type {\n",
              "        vertical-align: middle;\n",
              "    }\n",
              "\n",
              "    .dataframe tbody tr th {\n",
              "        vertical-align: top;\n",
              "    }\n",
              "\n",
              "    .dataframe thead th {\n",
              "        text-align: right;\n",
              "    }\n",
              "</style>\n",
              "<table border=\"1\" class=\"dataframe\">\n",
              "  <thead>\n",
              "    <tr style=\"text-align: right;\">\n",
              "      <th></th>\n",
              "      <th>label</th>\n",
              "      <th>tweet</th>\n",
              "    </tr>\n",
              "  </thead>\n",
              "  <tbody>\n",
              "    <tr>\n",
              "      <th>0</th>\n",
              "      <td>2</td>\n",
              "      <td>!!! RT : As a woman you shouldn't complain abo...</td>\n",
              "    </tr>\n",
              "    <tr>\n",
              "      <th>1</th>\n",
              "      <td>1</td>\n",
              "      <td>!!!!! RT : boy dats cold...tyga dwn bad for cu...</td>\n",
              "    </tr>\n",
              "    <tr>\n",
              "      <th>2</th>\n",
              "      <td>1</td>\n",
              "      <td>!!!!!!! RT Dawg!!!! RT : You ever fuck a bitch...</td>\n",
              "    </tr>\n",
              "    <tr>\n",
              "      <th>3</th>\n",
              "      <td>1</td>\n",
              "      <td>!!!!!!!!! RT : she look like a tranny</td>\n",
              "    </tr>\n",
              "    <tr>\n",
              "      <th>4</th>\n",
              "      <td>1</td>\n",
              "      <td>!!!!!!!!!!!!! RT : The shit you hear about me ...</td>\n",
              "    </tr>\n",
              "  </tbody>\n",
              "</table>\n",
              "</div>"
            ],
            "text/plain": [
              "   label                                              tweet\n",
              "0      2  !!! RT : As a woman you shouldn't complain abo...\n",
              "1      1  !!!!! RT : boy dats cold...tyga dwn bad for cu...\n",
              "2      1  !!!!!!! RT Dawg!!!! RT : You ever fuck a bitch...\n",
              "3      1              !!!!!!!!! RT : she look like a tranny\n",
              "4      1  !!!!!!!!!!!!! RT : The shit you hear about me ..."
            ]
          },
          "metadata": {
            "tags": []
          },
          "execution_count": 34
        }
      ]
    },
    {
      "cell_type": "code",
      "metadata": {
        "id": "ODfGL9PvqVHT"
      },
      "source": [
        "for i in range(len(df3['label'])):\n",
        "  if df3['label'][i] != 2:\n",
        "    text_overall.append(df3['tweet'][i])\n",
        "    label_overall.append(1)"
      ],
      "execution_count": 35,
      "outputs": []
    },
    {
      "cell_type": "code",
      "metadata": {
        "colab": {
          "base_uri": "https://localhost:8080/"
        },
        "id": "v18mNgxL8lFd",
        "outputId": "3fe494e5-548d-4c43-ae46-741bfeecc16e"
      },
      "source": [
        "count_n = 0\n",
        "count_h = 0\n",
        "for val in label_overall:\n",
        "  if val == 0:\n",
        "    count_n += 1\n",
        "  else:\n",
        "    count_h += 1\n",
        "\n",
        "print(\"Normal: {}\".format(count_n))\n",
        "print(\"HateSpeech: {}\".format(count_h))"
      ],
      "execution_count": 36,
      "outputs": [
        {
          "output_type": "stream",
          "text": [
            "Normal: 147509\n",
            "HateSpeech: 59707\n"
          ],
          "name": "stdout"
        }
      ]
    },
    {
      "cell_type": "markdown",
      "metadata": {
        "id": "MZLHiewu3d-Y"
      },
      "source": [
        "# MMHS150K\n"
      ]
    },
    {
      "cell_type": "code",
      "metadata": {
        "id": "BGypAtYhxr93"
      },
      "source": [
        "!cp /content/drive/MyDrive/ExpertSystem/MMHS150K_GT.json /content/"
      ],
      "execution_count": 37,
      "outputs": []
    },
    {
      "cell_type": "code",
      "metadata": {
        "id": "1e1c64Pk0Jy8"
      },
      "source": [
        "df4 = pd.read_json('/content/MMHS150K_GT.json')"
      ],
      "execution_count": 38,
      "outputs": []
    },
    {
      "cell_type": "code",
      "metadata": {
        "id": "x5yuNIgy0TAR"
      },
      "source": [
        "df4 = df4.transpose()"
      ],
      "execution_count": 39,
      "outputs": []
    },
    {
      "cell_type": "code",
      "metadata": {
        "id": "HCq9WiEp0fMF",
        "colab": {
          "base_uri": "https://localhost:8080/",
          "height": 383
        },
        "outputId": "599bd0cc-967c-4f38-e320-b6d0ff594721"
      },
      "source": [
        "df4.head()"
      ],
      "execution_count": 40,
      "outputs": [
        {
          "output_type": "execute_result",
          "data": {
            "text/html": [
              "<div>\n",
              "<style scoped>\n",
              "    .dataframe tbody tr th:only-of-type {\n",
              "        vertical-align: middle;\n",
              "    }\n",
              "\n",
              "    .dataframe tbody tr th {\n",
              "        vertical-align: top;\n",
              "    }\n",
              "\n",
              "    .dataframe thead th {\n",
              "        text-align: right;\n",
              "    }\n",
              "</style>\n",
              "<table border=\"1\" class=\"dataframe\">\n",
              "  <thead>\n",
              "    <tr style=\"text-align: right;\">\n",
              "      <th></th>\n",
              "      <th>img_url</th>\n",
              "      <th>labels</th>\n",
              "      <th>tweet_url</th>\n",
              "      <th>tweet_text</th>\n",
              "      <th>labels_str</th>\n",
              "    </tr>\n",
              "  </thead>\n",
              "  <tbody>\n",
              "    <tr>\n",
              "      <th>2005-04-28 09:09:13.714016256</th>\n",
              "      <td>http://pbs.twimg.com/tweet_video_thumb/D3gi9MH...</td>\n",
              "      <td>[4, 1, 3]</td>\n",
              "      <td>https://twitter.com/user/status/11146793537140...</td>\n",
              "      <td>@FriskDontMiss Nigga https://t.co/cAsaLWEpue</td>\n",
              "      <td>[Religion, Racist, Homophobe]</td>\n",
              "    </tr>\n",
              "    <tr>\n",
              "      <th>2003-09-08 11:20:48.816660480</th>\n",
              "      <td>http://pbs.twimg.com/ext_tw_video_thumb/106301...</td>\n",
              "      <td>[5, 5, 5]</td>\n",
              "      <td>https://twitter.com/user/status/10630200488166...</td>\n",
              "      <td>My horses are retarded https://t.co/HYhqc6d5WN</td>\n",
              "      <td>[OtherHate, OtherHate, OtherHate]</td>\n",
              "    </tr>\n",
              "    <tr>\n",
              "      <th>2005-02-20 19:22:48.075374593</th>\n",
              "      <td>http://pbs.twimg.com/media/D2OzhzHUwAADQjd.jpg</td>\n",
              "      <td>[0, 0, 0]</td>\n",
              "      <td>https://twitter.com/user/status/11089273680753...</td>\n",
              "      <td>“NIGGA ON MA MOMMA YOUNGBOY BE SPITTING REAL S...</td>\n",
              "      <td>[NotHate, NotHate, NotHate]</td>\n",
              "    </tr>\n",
              "    <tr>\n",
              "      <th>2005-04-26 23:35:34.635618305</th>\n",
              "      <td>http://pbs.twimg.com/ext_tw_video_thumb/111401...</td>\n",
              "      <td>[1, 0, 0]</td>\n",
              "      <td>https://twitter.com/user/status/11145585346356...</td>\n",
              "      <td>RT xxSuGVNGxx: I ran into this HOLY NIGGA TODA...</td>\n",
              "      <td>[Racist, NotHate, NotHate]</td>\n",
              "    </tr>\n",
              "    <tr>\n",
              "      <th>2002-10-22 02:08:00.215592966</th>\n",
              "      <td>http://pbs.twimg.com/media/Dl30pGIU8AAVGxO.jpg</td>\n",
              "      <td>[1, 0, 1]</td>\n",
              "      <td>https://twitter.com/user/status/10352524802155...</td>\n",
              "      <td>“EVERYbody calling you Nigger now!” https://t....</td>\n",
              "      <td>[Racist, NotHate, Racist]</td>\n",
              "    </tr>\n",
              "  </tbody>\n",
              "</table>\n",
              "</div>"
            ],
            "text/plain": [
              "                                                                         img_url  ...                         labels_str\n",
              "2005-04-28 09:09:13.714016256  http://pbs.twimg.com/tweet_video_thumb/D3gi9MH...  ...      [Religion, Racist, Homophobe]\n",
              "2003-09-08 11:20:48.816660480  http://pbs.twimg.com/ext_tw_video_thumb/106301...  ...  [OtherHate, OtherHate, OtherHate]\n",
              "2005-02-20 19:22:48.075374593     http://pbs.twimg.com/media/D2OzhzHUwAADQjd.jpg  ...        [NotHate, NotHate, NotHate]\n",
              "2005-04-26 23:35:34.635618305  http://pbs.twimg.com/ext_tw_video_thumb/111401...  ...         [Racist, NotHate, NotHate]\n",
              "2002-10-22 02:08:00.215592966     http://pbs.twimg.com/media/Dl30pGIU8AAVGxO.jpg  ...          [Racist, NotHate, Racist]\n",
              "\n",
              "[5 rows x 5 columns]"
            ]
          },
          "metadata": {
            "tags": []
          },
          "execution_count": 40
        }
      ]
    },
    {
      "cell_type": "code",
      "metadata": {
        "id": "AdL2hRq908fm"
      },
      "source": [
        "df4 = df4.drop(columns= [\"img_url\", \"tweet_url\"])"
      ],
      "execution_count": 41,
      "outputs": []
    },
    {
      "cell_type": "code",
      "metadata": {
        "id": "XUXRguvD1NIt"
      },
      "source": [
        "df4.reset_index(inplace=True)"
      ],
      "execution_count": 42,
      "outputs": []
    },
    {
      "cell_type": "code",
      "metadata": {
        "id": "jPTncoRZ1QG2"
      },
      "source": [
        "df4 = df4.drop(columns=[\"index\"])"
      ],
      "execution_count": 43,
      "outputs": []
    },
    {
      "cell_type": "code",
      "metadata": {
        "colab": {
          "base_uri": "https://localhost:8080/",
          "height": 402
        },
        "id": "GlmjRxj3828A",
        "outputId": "7e39489a-86e3-439a-8d7a-b1efcc191a7a"
      },
      "source": [
        "df4"
      ],
      "execution_count": 44,
      "outputs": [
        {
          "output_type": "execute_result",
          "data": {
            "text/html": [
              "<div>\n",
              "<style scoped>\n",
              "    .dataframe tbody tr th:only-of-type {\n",
              "        vertical-align: middle;\n",
              "    }\n",
              "\n",
              "    .dataframe tbody tr th {\n",
              "        vertical-align: top;\n",
              "    }\n",
              "\n",
              "    .dataframe thead th {\n",
              "        text-align: right;\n",
              "    }\n",
              "</style>\n",
              "<table border=\"1\" class=\"dataframe\">\n",
              "  <thead>\n",
              "    <tr style=\"text-align: right;\">\n",
              "      <th></th>\n",
              "      <th>labels</th>\n",
              "      <th>tweet_text</th>\n",
              "      <th>labels_str</th>\n",
              "    </tr>\n",
              "  </thead>\n",
              "  <tbody>\n",
              "    <tr>\n",
              "      <th>0</th>\n",
              "      <td>[4, 1, 3]</td>\n",
              "      <td>@FriskDontMiss Nigga https://t.co/cAsaLWEpue</td>\n",
              "      <td>[Religion, Racist, Homophobe]</td>\n",
              "    </tr>\n",
              "    <tr>\n",
              "      <th>1</th>\n",
              "      <td>[5, 5, 5]</td>\n",
              "      <td>My horses are retarded https://t.co/HYhqc6d5WN</td>\n",
              "      <td>[OtherHate, OtherHate, OtherHate]</td>\n",
              "    </tr>\n",
              "    <tr>\n",
              "      <th>2</th>\n",
              "      <td>[0, 0, 0]</td>\n",
              "      <td>“NIGGA ON MA MOMMA YOUNGBOY BE SPITTING REAL S...</td>\n",
              "      <td>[NotHate, NotHate, NotHate]</td>\n",
              "    </tr>\n",
              "    <tr>\n",
              "      <th>3</th>\n",
              "      <td>[1, 0, 0]</td>\n",
              "      <td>RT xxSuGVNGxx: I ran into this HOLY NIGGA TODA...</td>\n",
              "      <td>[Racist, NotHate, NotHate]</td>\n",
              "    </tr>\n",
              "    <tr>\n",
              "      <th>4</th>\n",
              "      <td>[1, 0, 1]</td>\n",
              "      <td>“EVERYbody calling you Nigger now!” https://t....</td>\n",
              "      <td>[Racist, NotHate, Racist]</td>\n",
              "    </tr>\n",
              "    <tr>\n",
              "      <th>...</th>\n",
              "      <td>...</td>\n",
              "      <td>...</td>\n",
              "      <td>...</td>\n",
              "    </tr>\n",
              "    <tr>\n",
              "      <th>149818</th>\n",
              "      <td>[2, 5, 0]</td>\n",
              "      <td>@svdate @gtconway3d I would just say hes Donny...</td>\n",
              "      <td>[Sexist, OtherHate, NotHate]</td>\n",
              "    </tr>\n",
              "    <tr>\n",
              "      <th>149819</th>\n",
              "      <td>[0, 0, 0]</td>\n",
              "      <td>@Cheftime_Dev congrats my nigga keep on grindi...</td>\n",
              "      <td>[NotHate, NotHate, NotHate]</td>\n",
              "    </tr>\n",
              "    <tr>\n",
              "      <th>149820</th>\n",
              "      <td>[0, 1, 0]</td>\n",
              "      <td>My nigga big shitty https://t.co/e0snJGBgH9</td>\n",
              "      <td>[NotHate, Racist, NotHate]</td>\n",
              "    </tr>\n",
              "    <tr>\n",
              "      <th>149821</th>\n",
              "      <td>[1, 0, 0]</td>\n",
              "      <td>did she just say “my nigga” to Rich? &amp;amp; she...</td>\n",
              "      <td>[Racist, NotHate, NotHate]</td>\n",
              "    </tr>\n",
              "    <tr>\n",
              "      <th>149822</th>\n",
              "      <td>[0, 0, 3]</td>\n",
              "      <td>This nigga Joe Budden said thanos got a galact...</td>\n",
              "      <td>[NotHate, NotHate, Homophobe]</td>\n",
              "    </tr>\n",
              "  </tbody>\n",
              "</table>\n",
              "<p>149823 rows × 3 columns</p>\n",
              "</div>"
            ],
            "text/plain": [
              "           labels  ...                         labels_str\n",
              "0       [4, 1, 3]  ...      [Religion, Racist, Homophobe]\n",
              "1       [5, 5, 5]  ...  [OtherHate, OtherHate, OtherHate]\n",
              "2       [0, 0, 0]  ...        [NotHate, NotHate, NotHate]\n",
              "3       [1, 0, 0]  ...         [Racist, NotHate, NotHate]\n",
              "4       [1, 0, 1]  ...          [Racist, NotHate, Racist]\n",
              "...           ...  ...                                ...\n",
              "149818  [2, 5, 0]  ...       [Sexist, OtherHate, NotHate]\n",
              "149819  [0, 0, 0]  ...        [NotHate, NotHate, NotHate]\n",
              "149820  [0, 1, 0]  ...         [NotHate, Racist, NotHate]\n",
              "149821  [1, 0, 0]  ...         [Racist, NotHate, NotHate]\n",
              "149822  [0, 0, 3]  ...      [NotHate, NotHate, Homophobe]\n",
              "\n",
              "[149823 rows x 3 columns]"
            ]
          },
          "metadata": {
            "tags": []
          },
          "execution_count": 44
        }
      ]
    },
    {
      "cell_type": "code",
      "metadata": {
        "id": "Q8j_AVwb4SM4"
      },
      "source": [
        "clean_text  = []\n",
        "labels = []\n",
        "for i in range(len(df4['labels'])):\n",
        "  clean_ = p.clean(df4['tweet_text'][i])\n",
        "  clean_text.append(clean_)\n",
        "  labels.append(df4['labels'][i])"
      ],
      "execution_count": 45,
      "outputs": []
    },
    {
      "cell_type": "code",
      "metadata": {
        "id": "GXseKNIx4m5e"
      },
      "source": [
        "df4 = pd.DataFrame(list(zip(labels, clean_text)),\n",
        "                  columns = ['labels','tweet_text'])"
      ],
      "execution_count": 46,
      "outputs": []
    },
    {
      "cell_type": "code",
      "metadata": {
        "colab": {
          "base_uri": "https://localhost:8080/",
          "height": 195
        },
        "id": "bgtUiZ1L5ct8",
        "outputId": "aa7f086b-ee1e-40f3-efc5-e2eadc3e5ad4"
      },
      "source": [
        "df4.head()"
      ],
      "execution_count": 47,
      "outputs": [
        {
          "output_type": "execute_result",
          "data": {
            "text/html": [
              "<div>\n",
              "<style scoped>\n",
              "    .dataframe tbody tr th:only-of-type {\n",
              "        vertical-align: middle;\n",
              "    }\n",
              "\n",
              "    .dataframe tbody tr th {\n",
              "        vertical-align: top;\n",
              "    }\n",
              "\n",
              "    .dataframe thead th {\n",
              "        text-align: right;\n",
              "    }\n",
              "</style>\n",
              "<table border=\"1\" class=\"dataframe\">\n",
              "  <thead>\n",
              "    <tr style=\"text-align: right;\">\n",
              "      <th></th>\n",
              "      <th>labels</th>\n",
              "      <th>tweet_text</th>\n",
              "    </tr>\n",
              "  </thead>\n",
              "  <tbody>\n",
              "    <tr>\n",
              "      <th>0</th>\n",
              "      <td>[4, 1, 3]</td>\n",
              "      <td>Nigga</td>\n",
              "    </tr>\n",
              "    <tr>\n",
              "      <th>1</th>\n",
              "      <td>[5, 5, 5]</td>\n",
              "      <td>My horses are retarded</td>\n",
              "    </tr>\n",
              "    <tr>\n",
              "      <th>2</th>\n",
              "      <td>[0, 0, 0]</td>\n",
              "      <td>NIGGA ON MA MOMMA YOUNGBOY BE SPITTING REAL SH...</td>\n",
              "    </tr>\n",
              "    <tr>\n",
              "      <th>3</th>\n",
              "      <td>[1, 0, 0]</td>\n",
              "      <td>xxSuGVNGxx: I ran into this HOLY NIGGA TODAY</td>\n",
              "    </tr>\n",
              "    <tr>\n",
              "      <th>4</th>\n",
              "      <td>[1, 0, 1]</td>\n",
              "      <td>EVERYbody calling you Nigger now!</td>\n",
              "    </tr>\n",
              "  </tbody>\n",
              "</table>\n",
              "</div>"
            ],
            "text/plain": [
              "      labels                                         tweet_text\n",
              "0  [4, 1, 3]                                              Nigga\n",
              "1  [5, 5, 5]                             My horses are retarded\n",
              "2  [0, 0, 0]  NIGGA ON MA MOMMA YOUNGBOY BE SPITTING REAL SH...\n",
              "3  [1, 0, 0]       xxSuGVNGxx: I ran into this HOLY NIGGA TODAY\n",
              "4  [1, 0, 1]                  EVERYbody calling you Nigger now!"
            ]
          },
          "metadata": {
            "tags": []
          },
          "execution_count": 47
        }
      ]
    },
    {
      "cell_type": "code",
      "metadata": {
        "id": "ih9ha3Kv1aek"
      },
      "source": [
        "omit = [0,0,0]\n",
        "for i in range(len(df4['labels'])):\n",
        "  if (df4['labels'][i]!=omit):\n",
        "    text_overall.append(df4['tweet_text'][i])\n",
        "    label_overall.append(1)\n",
        "  else:\n",
        "    text_overall.append(df4['tweet_text'][i])\n",
        "    label_overall.append(0)"
      ],
      "execution_count": 48,
      "outputs": []
    },
    {
      "cell_type": "code",
      "metadata": {
        "colab": {
          "base_uri": "https://localhost:8080/"
        },
        "id": "yYw0-ETv9WyH",
        "outputId": "4b924a8c-9907-4eaa-fa6f-fe90d3ff50ef"
      },
      "source": [
        "count_n = 0\n",
        "count_h = 0\n",
        "for val in label_overall:\n",
        "  if val == 0:\n",
        "    count_n += 1\n",
        "  else:\n",
        "    count_h += 1\n",
        "\n",
        "print(\"Normal: {}\".format(count_n))\n",
        "print(\"Abusive: {}\".format(count_h))"
      ],
      "execution_count": 49,
      "outputs": [
        {
          "output_type": "stream",
          "text": [
            "Normal: 205399\n",
            "Abusive: 151640\n"
          ],
          "name": "stdout"
        }
      ]
    },
    {
      "cell_type": "code",
      "metadata": {
        "id": "Hp0YuKRUmQJB"
      },
      "source": [
        "df = pd.DataFrame(list(zip(text_overall, label_overall)),\n",
        "                  columns = ['text','label'])"
      ],
      "execution_count": 50,
      "outputs": []
    },
    {
      "cell_type": "code",
      "metadata": {
        "colab": {
          "base_uri": "https://localhost:8080/",
          "height": 195
        },
        "id": "KJ-i9xCcmeTt",
        "outputId": "36b68b9d-ab3e-42de-f801-56bf12e97f98"
      },
      "source": [
        "df.head()"
      ],
      "execution_count": 51,
      "outputs": [
        {
          "output_type": "execute_result",
          "data": {
            "text/html": [
              "<div>\n",
              "<style scoped>\n",
              "    .dataframe tbody tr th:only-of-type {\n",
              "        vertical-align: middle;\n",
              "    }\n",
              "\n",
              "    .dataframe tbody tr th {\n",
              "        vertical-align: top;\n",
              "    }\n",
              "\n",
              "    .dataframe thead th {\n",
              "        text-align: right;\n",
              "    }\n",
              "</style>\n",
              "<table border=\"1\" class=\"dataframe\">\n",
              "  <thead>\n",
              "    <tr style=\"text-align: right;\">\n",
              "      <th></th>\n",
              "      <th>text</th>\n",
              "      <th>label</th>\n",
              "    </tr>\n",
              "  </thead>\n",
              "  <tbody>\n",
              "    <tr>\n",
              "      <th>0</th>\n",
              "      <td>Then go to the village pump and suggest they c...</td>\n",
              "      <td>0</td>\n",
              "    </tr>\n",
              "    <tr>\n",
              "      <th>1</th>\n",
              "      <td>ANTI GREEK NATIONALIS -WIKIPEDIA \\n\\nHi Alexik...</td>\n",
              "      <td>1</td>\n",
              "    </tr>\n",
              "    <tr>\n",
              "      <th>2</th>\n",
              "      <td>Dis hoe wasnt dis violent on Lottery Ticket 😂😂</td>\n",
              "      <td>1</td>\n",
              "    </tr>\n",
              "    <tr>\n",
              "      <th>3</th>\n",
              "      <td>It is better for Atabay not helping the banned...</td>\n",
              "      <td>0</td>\n",
              "    </tr>\n",
              "    <tr>\n",
              "      <th>4</th>\n",
              "      <td>\"is in CamelCase.  \"\"SiCKO\"\" is not CamelCase,...</td>\n",
              "      <td>0</td>\n",
              "    </tr>\n",
              "  </tbody>\n",
              "</table>\n",
              "</div>"
            ],
            "text/plain": [
              "                                                text  label\n",
              "0  Then go to the village pump and suggest they c...      0\n",
              "1  ANTI GREEK NATIONALIS -WIKIPEDIA \\n\\nHi Alexik...      1\n",
              "2     Dis hoe wasnt dis violent on Lottery Ticket 😂😂      1\n",
              "3  It is better for Atabay not helping the banned...      0\n",
              "4  \"is in CamelCase.  \"\"SiCKO\"\" is not CamelCase,...      0"
            ]
          },
          "metadata": {
            "tags": []
          },
          "execution_count": 51
        }
      ]
    },
    {
      "cell_type": "code",
      "metadata": {
        "colab": {
          "base_uri": "https://localhost:8080/"
        },
        "id": "nFpLXUzbl6sl",
        "outputId": "1c6807a6-8cfa-47da-a464-7ac84d739c14"
      },
      "source": [
        "count_n = 0\n",
        "count_a = 0\n",
        "for i in range(len(df['text'])):\n",
        "  if df['label'][i] == 0:\n",
        "    count_n += 1\n",
        "  else:\n",
        "    count_a += 1\n",
        "\n",
        "print(\"Neutral: \", count_n)\n",
        "print(\"abusive: \", count_a)"
      ],
      "execution_count": 52,
      "outputs": [
        {
          "output_type": "stream",
          "text": [
            "Neutral:  205399\n",
            "abusive:  151640\n"
          ],
          "name": "stdout"
        }
      ]
    },
    {
      "cell_type": "code",
      "metadata": {
        "id": "5VU21j0cl9Ss"
      },
      "source": [
        "df = df.sample(frac = 1)\n",
        "df = df.sample(frac = 1)\n",
        "df = df.sample(frac = 1)"
      ],
      "execution_count": 53,
      "outputs": []
    },
    {
      "cell_type": "code",
      "metadata": {
        "id": "OhqMPeaZnU73"
      },
      "source": [
        "df = df.reset_index(drop=True)"
      ],
      "execution_count": 54,
      "outputs": []
    },
    {
      "cell_type": "code",
      "metadata": {
        "colab": {
          "base_uri": "https://localhost:8080/",
          "height": 402
        },
        "id": "msc_3LKFnXdu",
        "outputId": "9c7887e4-c1b5-404b-c4ea-f1efebc4602c"
      },
      "source": [
        "df"
      ],
      "execution_count": 55,
      "outputs": [
        {
          "output_type": "execute_result",
          "data": {
            "text/html": [
              "<div>\n",
              "<style scoped>\n",
              "    .dataframe tbody tr th:only-of-type {\n",
              "        vertical-align: middle;\n",
              "    }\n",
              "\n",
              "    .dataframe tbody tr th {\n",
              "        vertical-align: top;\n",
              "    }\n",
              "\n",
              "    .dataframe thead th {\n",
              "        text-align: right;\n",
              "    }\n",
              "</style>\n",
              "<table border=\"1\" class=\"dataframe\">\n",
              "  <thead>\n",
              "    <tr style=\"text-align: right;\">\n",
              "      <th></th>\n",
              "      <th>text</th>\n",
              "      <th>label</th>\n",
              "    </tr>\n",
              "  </thead>\n",
              "  <tbody>\n",
              "    <tr>\n",
              "      <th>0</th>\n",
              "      <td>Bailey has gone for a sleep over I feel crap i...</td>\n",
              "      <td>0</td>\n",
              "    </tr>\n",
              "    <tr>\n",
              "      <th>1</th>\n",
              "      <td>\"\\n \\nCustom500\\n\\nIts my user page, ill edit ...</td>\n",
              "      <td>0</td>\n",
              "    </tr>\n",
              "    <tr>\n",
              "      <th>2</th>\n",
              "      <td>It seems to me that when creating this page, s...</td>\n",
              "      <td>0</td>\n",
              "    </tr>\n",
              "    <tr>\n",
              "      <th>3</th>\n",
              "      <td>Bring my nigga Nip back!</td>\n",
              "      <td>0</td>\n",
              "    </tr>\n",
              "    <tr>\n",
              "      <th>4</th>\n",
              "      <td>Still you havent explained why it is a POV and...</td>\n",
              "      <td>0</td>\n",
              "    </tr>\n",
              "    <tr>\n",
              "      <th>...</th>\n",
              "      <td>...</td>\n",
              "      <td>...</td>\n",
              "    </tr>\n",
              "    <tr>\n",
              "      <th>357034</th>\n",
              "      <td>Built that Wall ,</td>\n",
              "      <td>1</td>\n",
              "    </tr>\n",
              "    <tr>\n",
              "      <th>357035</th>\n",
              "      <td>Do we need the all music rating? \\n\\nDo we rea...</td>\n",
              "      <td>0</td>\n",
              "    </tr>\n",
              "    <tr>\n",
              "      <th>357036</th>\n",
              "      <td>REDIRECT Talk:Stuart Gray (footballer, born 1973)</td>\n",
              "      <td>0</td>\n",
              "    </tr>\n",
              "    <tr>\n",
              "      <th>357037</th>\n",
              "      <td>Im married to a retard, must be why we're so g...</td>\n",
              "      <td>1</td>\n",
              "    </tr>\n",
              "    <tr>\n",
              "      <th>357038</th>\n",
              "      <td>My nigga man</td>\n",
              "      <td>0</td>\n",
              "    </tr>\n",
              "  </tbody>\n",
              "</table>\n",
              "<p>357039 rows × 2 columns</p>\n",
              "</div>"
            ],
            "text/plain": [
              "                                                     text  label\n",
              "0       Bailey has gone for a sleep over I feel crap i...      0\n",
              "1       \"\\n \\nCustom500\\n\\nIts my user page, ill edit ...      0\n",
              "2       It seems to me that when creating this page, s...      0\n",
              "3                                Bring my nigga Nip back!      0\n",
              "4       Still you havent explained why it is a POV and...      0\n",
              "...                                                   ...    ...\n",
              "357034                                  Built that Wall ,      1\n",
              "357035  Do we need the all music rating? \\n\\nDo we rea...      0\n",
              "357036  REDIRECT Talk:Stuart Gray (footballer, born 1973)      0\n",
              "357037  Im married to a retard, must be why we're so g...      1\n",
              "357038                                       My nigga man      0\n",
              "\n",
              "[357039 rows x 2 columns]"
            ]
          },
          "metadata": {
            "tags": []
          },
          "execution_count": 55
        }
      ]
    },
    {
      "cell_type": "code",
      "metadata": {
        "id": "oPNtLWzUnX7n"
      },
      "source": [
        "df.to_csv('cleaned_abusive_nonabusive.csv', index=False)"
      ],
      "execution_count": 56,
      "outputs": []
    },
    {
      "cell_type": "code",
      "metadata": {
        "id": "QRXNlK4DniLH"
      },
      "source": [
        "!cp /content/cleaned_abusive_nonabusive.csv /content/drive/MyDrive/ExpertSystem/"
      ],
      "execution_count": 57,
      "outputs": []
    },
    {
      "cell_type": "code",
      "metadata": {
        "colab": {
          "base_uri": "https://localhost:8080/",
          "height": 232
        },
        "id": "3pj3qaQjoBZv",
        "outputId": "a5df9c25-e61d-4f9a-a0cd-cf2369db53a5"
      },
      "source": [
        "from wordcloud import WordCloud\n",
        "import matplotlib.pyplot as plt\n",
        "word_text = \" \".join(map(str, clean_text))\n",
        "wordcloud = WordCloud(max_font_size=60, max_words=200, background_color=\"white\", width=500, height = 300).generate(word_text)\n",
        "plt.figure()\n",
        "plt.imshow(wordcloud, interpolation=\"bilinear\")\n",
        "plt.axis(\"off\")\n",
        "plt.show()"
      ],
      "execution_count": 58,
      "outputs": [
        {
          "output_type": "display_data",
          "data": {
            "image/png": "[encoded data removed]",
            "text/plain": [
              "<Figure size 432x288 with 1 Axes>"
            ]
          },
          "metadata": {
            "tags": [],
            "needs_background": "light"
          }
        }
      ]
    }
  ]
}