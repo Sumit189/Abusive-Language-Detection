{
  "nbformat": 4,
  "nbformat_minor": 0,
  "metadata": {
    "colab": {
      "name": "Abusive Language Detection.ipynb",
      "provenance": [],
      "collapsed_sections": [],
      "mount_file_id": "1CUF4iWX9bXUm801-u3a4QjAo3V9aS6ay",
      "authorship_tag": "ABX9TyOqTNNF1XmbIaJ4u1WPcO9X",
      "include_colab_link": true
    },
    "kernelspec": {
      "name": "python3",
      "display_name": "Python 3"
    },
    "language_info": {
      "name": "python"
    },
    "accelerator": "GPU"
  },
  "cells": [
    {
      "cell_type": "markdown",
      "metadata": {
        "id": "view-in-github",
        "colab_type": "text"
      },
      "source": [
        "<a href=\"https://colab.research.google.com/github/Sumit189/Abusive-Language-Detection/blob/main/notebook/Abusive_Language_Detection.ipynb\" target=\"_parent\"><img src=\"https://colab.research.google.com/assets/colab-badge.svg\" alt=\"Open In Colab\"/></a>"
      ]
    },
    {
      "cell_type": "code",
      "metadata": {
        "id": "a9P6BPKQIBnA"
      },
      "source": [
        "import pandas as pd\n",
        "import numpy as np\n",
        "from wordcloud import WordCloud\n",
        "import matplotlib.pyplot as plt\n",
        "from sklearn.feature_extraction.text import TfidfVectorizer\n",
        "from sklearn.svm import LinearSVC\n",
        "from sklearn.ensemble import RandomForestClassifier\n",
        "from sklearn.calibration import CalibratedClassifierCV\n",
        "from sklearn.tree import DecisionTreeClassifier\n",
        "from sklearn.naive_bayes import GaussianNB\n",
        "from sklearn.metrics import accuracy_score\n",
        "from joblib import dump"
      ],
      "execution_count": 1,
      "outputs": []
    },
    {
      "cell_type": "code",
      "metadata": {
        "id": "K23QrqgOLgLc"
      },
      "source": [
        "!cp /content/drive/MyDrive/ExpertSystem/clean_data.csv /content/"
      ],
      "execution_count": 2,
      "outputs": []
    },
    {
      "cell_type": "code",
      "metadata": {
        "id": "R2O_yRASISCy"
      },
      "source": [
        "data = pd.read_csv(\"clean_data.csv\")"
      ],
      "execution_count": 3,
      "outputs": []
    },
    {
      "cell_type": "code",
      "metadata": {
        "colab": {
          "base_uri": "https://localhost:8080/",
          "height": 195
        },
        "id": "svmjD0ZPLu4a",
        "outputId": "f0fb08f1-c3e3-4ec4-c09d-5ae90e57ee5d"
      },
      "source": [
        "data.head()"
      ],
      "execution_count": 4,
      "outputs": [
        {
          "output_type": "execute_result",
          "data": {
            "text/html": [
              "<div>\n",
              "<style scoped>\n",
              "    .dataframe tbody tr th:only-of-type {\n",
              "        vertical-align: middle;\n",
              "    }\n",
              "\n",
              "    .dataframe tbody tr th {\n",
              "        vertical-align: top;\n",
              "    }\n",
              "\n",
              "    .dataframe thead th {\n",
              "        text-align: right;\n",
              "    }\n",
              "</style>\n",
              "<table border=\"1\" class=\"dataframe\">\n",
              "  <thead>\n",
              "    <tr style=\"text-align: right;\">\n",
              "      <th></th>\n",
              "      <th>is_offensive</th>\n",
              "      <th>text</th>\n",
              "    </tr>\n",
              "  </thead>\n",
              "  <tbody>\n",
              "    <tr>\n",
              "      <th>0</th>\n",
              "      <td>0</td>\n",
              "      <td>Then go to the village pump and suggest they c...</td>\n",
              "    </tr>\n",
              "    <tr>\n",
              "      <th>1</th>\n",
              "      <td>1</td>\n",
              "      <td>ANTI GREEK NATIONALIS -WIKIPEDIA \\n\\nHi Alexik...</td>\n",
              "    </tr>\n",
              "    <tr>\n",
              "      <th>2</th>\n",
              "      <td>1</td>\n",
              "      <td>Dis hoe wasnt dis violent on Lottery Ticket 😂😂</td>\n",
              "    </tr>\n",
              "    <tr>\n",
              "      <th>3</th>\n",
              "      <td>0</td>\n",
              "      <td>It is better for Atabay not helping the banned...</td>\n",
              "    </tr>\n",
              "    <tr>\n",
              "      <th>4</th>\n",
              "      <td>0</td>\n",
              "      <td>\"is in CamelCase.  \"\"SiCKO\"\" is not CamelCase,...</td>\n",
              "    </tr>\n",
              "  </tbody>\n",
              "</table>\n",
              "</div>"
            ],
            "text/plain": [
              "   is_offensive                                               text\n",
              "0             0  Then go to the village pump and suggest they c...\n",
              "1             1  ANTI GREEK NATIONALIS -WIKIPEDIA \\n\\nHi Alexik...\n",
              "2             1     Dis hoe wasnt dis violent on Lottery Ticket 😂😂\n",
              "3             0  It is better for Atabay not helping the banned...\n",
              "4             0  \"is in CamelCase.  \"\"SiCKO\"\" is not CamelCase,..."
            ]
          },
          "metadata": {
            "tags": []
          },
          "execution_count": 4
        }
      ]
    },
    {
      "cell_type": "code",
      "metadata": {
        "colab": {
          "base_uri": "https://localhost:8080/"
        },
        "id": "8bV1NgkbL0P6",
        "outputId": "5be9a31f-dc3f-4b61-dc46-505f8ebf1e2d"
      },
      "source": [
        "count_not_abusive = 0\n",
        "count_abusive = 0\n",
        "for i in data.is_offensive:\n",
        "  if i == 0:\n",
        "    count_not_abusive += 1\n",
        "  else:\n",
        "    count_abusive += 1\n",
        "\n",
        "print(\"Non Abusive: {}\".format(count_not_abusive))\n",
        "print(\"Abusive: {}\".format(count_abusive))"
      ],
      "execution_count": 5,
      "outputs": [
        {
          "output_type": "stream",
          "text": [
            "Non Abusive: 147509\n",
            "Abusive: 36845\n"
          ],
          "name": "stdout"
        }
      ]
    },
    {
      "cell_type": "code",
      "metadata": {
        "id": "AkZ9uBHhV0bd"
      },
      "source": [
        "texts = data[\"text\"].astype(str)\n",
        "y = data[\"is_offensive\"]"
      ],
      "execution_count": 6,
      "outputs": []
    },
    {
      "cell_type": "code",
      "metadata": {
        "colab": {
          "base_uri": "https://localhost:8080/",
          "height": 198
        },
        "id": "FUSRR341Pw5y",
        "outputId": "1c04280e-9a04-49eb-fb4c-71fbda4d1e02"
      },
      "source": [
        "word_text = \" \".join(map(str, texts))\n",
        "wordcloud = WordCloud(max_font_size=50, max_words=100, background_color=\"white\").generate(word_text)\n",
        "plt.figure()\n",
        "plt.imshow(wordcloud, interpolation=\"bilinear\")\n",
        "plt.axis(\"off\")\n",
        "plt.show()"
      ],
      "execution_count": 7,
      "outputs": [
        {
          "output_type": "display_data",
          "data": {
            "image/png": "[encoded data removed]",
            "text/plain": [
              "<Figure size 432x288 with 1 Axes>"
            ]
          },
          "metadata": {
            "tags": [],
            "needs_background": "light"
          }
        }
      ]
    },
    {
      "cell_type": "code",
      "metadata": {
        "id": "75cTHwBYIW6P"
      },
      "source": [
        "from sklearn.model_selection import train_test_split"
      ],
      "execution_count": 8,
      "outputs": []
    },
    {
      "cell_type": "code",
      "metadata": {
        "id": "0sAIsa2MIVdz"
      },
      "source": [
        "vectorizer = TfidfVectorizer(stop_words=\"english\", min_df=0.0001)\n",
        "X = vectorizer.fit_transform(texts)"
      ],
      "execution_count": 9,
      "outputs": []
    },
    {
      "cell_type": "code",
      "metadata": {
        "id": "kxTuAU1QIcDN"
      },
      "source": [
        "X_train, X_test, y_train, y_test = train_test_split(X,y, test_size = 0.2, random_state = 42)"
      ],
      "execution_count": 10,
      "outputs": []
    },
    {
      "cell_type": "code",
      "metadata": {
        "id": "HV7_DjOPM5bw"
      },
      "source": [
        "rf = RandomForestClassifier(max_depth=100, random_state=0)"
      ],
      "execution_count": 11,
      "outputs": []
    },
    {
      "cell_type": "code",
      "metadata": {
        "colab": {
          "base_uri": "https://localhost:8080/"
        },
        "id": "eVFsVmuDM7vm",
        "outputId": "a45e42cf-5d77-43d5-8723-0483ffa3f54f"
      },
      "source": [
        "rf.fit(X_train, y_train)"
      ],
      "execution_count": 12,
      "outputs": [
        {
          "output_type": "execute_result",
          "data": {
            "text/plain": [
              "RandomForestClassifier(bootstrap=True, ccp_alpha=0.0, class_weight=None,\n",
              "                       criterion='gini', max_depth=100, max_features='auto',\n",
              "                       max_leaf_nodes=None, max_samples=None,\n",
              "                       min_impurity_decrease=0.0, min_impurity_split=None,\n",
              "                       min_samples_leaf=1, min_samples_split=2,\n",
              "                       min_weight_fraction_leaf=0.0, n_estimators=100,\n",
              "                       n_jobs=None, oob_score=False, random_state=0, verbose=0,\n",
              "                       warm_start=False)"
            ]
          },
          "metadata": {
            "tags": []
          },
          "execution_count": 12
        }
      ]
    },
    {
      "cell_type": "code",
      "metadata": {
        "colab": {
          "base_uri": "https://localhost:8080/"
        },
        "id": "3DbkP800NDHF",
        "outputId": "f89466e1-caa4-4885-b9c2-9937fce79fb1"
      },
      "source": [
        "rf_y_hat = rf.predict(X_test)\n",
        "accuracy_score(rf_y_hat, y_test) "
      ],
      "execution_count": 13,
      "outputs": [
        {
          "output_type": "execute_result",
          "data": {
            "text/plain": [
              "0.942827696563695"
            ]
          },
          "metadata": {
            "tags": []
          },
          "execution_count": 13
        }
      ]
    },
    {
      "cell_type": "code",
      "metadata": {
        "id": "7ZVjpJpMUo_a"
      },
      "source": [
        "rf_score = accuracy_score(rf_y_hat, y_test) "
      ],
      "execution_count": 14,
      "outputs": []
    },
    {
      "cell_type": "code",
      "metadata": {
        "colab": {
          "base_uri": "https://localhost:8080/"
        },
        "id": "jgdousMEIszC",
        "outputId": "de13f5aa-4161-4eb7-e29c-b56ce11be794"
      },
      "source": [
        "model = LinearSVC(class_weight=\"balanced\", dual=False, tol=1e-2, max_iter=1e5)\n",
        "cclf = CalibratedClassifierCV(base_estimator=model)\n",
        "cclf.fit(X_train, y_train)"
      ],
      "execution_count": 15,
      "outputs": [
        {
          "output_type": "execute_result",
          "data": {
            "text/plain": [
              "CalibratedClassifierCV(base_estimator=LinearSVC(C=1.0, class_weight='balanced',\n",
              "                                                dual=False, fit_intercept=True,\n",
              "                                                intercept_scaling=1,\n",
              "                                                loss='squared_hinge',\n",
              "                                                max_iter=100000.0,\n",
              "                                                multi_class='ovr', penalty='l2',\n",
              "                                                random_state=None, tol=0.01,\n",
              "                                                verbose=0),\n",
              "                       cv=None, method='sigmoid')"
            ]
          },
          "metadata": {
            "tags": []
          },
          "execution_count": 15
        }
      ]
    },
    {
      "cell_type": "code",
      "metadata": {
        "colab": {
          "base_uri": "https://localhost:8080/"
        },
        "id": "RMqdX_00IyK8",
        "outputId": "7a8a317a-b2c2-4efb-aee2-0d8083fd0144"
      },
      "source": [
        "y_hat = cclf.predict(X_test)\n",
        "cc_score = accuracy_score(y_hat, y_test) \n",
        "print(cc_score)"
      ],
      "execution_count": 16,
      "outputs": [
        {
          "output_type": "stream",
          "text": [
            "0.9577988120745301\n"
          ],
          "name": "stdout"
        }
      ]
    },
    {
      "cell_type": "code",
      "metadata": {
        "id": "qSoo_fyiXpLJ"
      },
      "source": [
        "dt = DecisionTreeClassifier(random_state=0)"
      ],
      "execution_count": 17,
      "outputs": []
    },
    {
      "cell_type": "code",
      "metadata": {
        "colab": {
          "base_uri": "https://localhost:8080/"
        },
        "id": "wTVCnJgpXty1",
        "outputId": "a8ce4d6a-de9b-4d48-e9dd-f6160d14e543"
      },
      "source": [
        "dt.fit(X_train, y_train)"
      ],
      "execution_count": 18,
      "outputs": [
        {
          "output_type": "execute_result",
          "data": {
            "text/plain": [
              "DecisionTreeClassifier(ccp_alpha=0.0, class_weight=None, criterion='gini',\n",
              "                       max_depth=None, max_features=None, max_leaf_nodes=None,\n",
              "                       min_impurity_decrease=0.0, min_impurity_split=None,\n",
              "                       min_samples_leaf=1, min_samples_split=2,\n",
              "                       min_weight_fraction_leaf=0.0, presort='deprecated',\n",
              "                       random_state=0, splitter='best')"
            ]
          },
          "metadata": {
            "tags": []
          },
          "execution_count": 18
        }
      ]
    },
    {
      "cell_type": "code",
      "metadata": {
        "colab": {
          "base_uri": "https://localhost:8080/"
        },
        "id": "mJfwBxwCXwOy",
        "outputId": "47381c20-f628-406b-8b2c-87389b047a25"
      },
      "source": [
        "dt_y_hat = dt.predict(X_test)\n",
        "dt_score = accuracy_score(dt_y_hat, y_test)\n",
        "print(dt_score)"
      ],
      "execution_count": 19,
      "outputs": [
        {
          "output_type": "stream",
          "text": [
            "0.9433972498711725\n"
          ],
          "name": "stdout"
        }
      ]
    },
    {
      "cell_type": "code",
      "metadata": {
        "colab": {
          "base_uri": "https://localhost:8080/",
          "height": 338
        },
        "id": "pttgF02gT_vE",
        "outputId": "bca2353b-d966-4f51-83e6-937ea06717f4"
      },
      "source": [
        "fig = plt.figure()\n",
        "ax = fig.add_axes([0,0,1,1])\n",
        "classifiers = ['Random Forest', 'Calibrated Classifier', 'Decision Tree']\n",
        "acc = [rf_score, cc_score, dt_score]\n",
        "ax.bar(classifiers,acc)\n",
        "plt.show()"
      ],
      "execution_count": 20,
      "outputs": [
        {
          "output_type": "display_data",
          "data": {
            "image/png": "[encoded data removed]",
            "text/plain": [
              "<Figure size 432x288 with 1 Axes>"
            ]
          },
          "metadata": {
            "tags": [],
            "needs_background": "light"
          }
        }
      ]
    },
    {
      "cell_type": "markdown",
      "metadata": {
        "id": "Bn5oeGX_WMjg"
      },
      "source": [
        "# Train on Whole Set"
      ]
    },
    {
      "cell_type": "code",
      "metadata": {
        "colab": {
          "base_uri": "https://localhost:8080/"
        },
        "id": "Ryzuqn7rWPqs",
        "outputId": "49f21806-a85d-4eb9-90c5-494b3f3efd54"
      },
      "source": [
        "model = LinearSVC(class_weight=\"balanced\", dual=False, tol=1e-2, max_iter=1e5)\n",
        "best_cclf = CalibratedClassifierCV(base_estimator=model)\n",
        "best_cclf.fit(X, y)"
      ],
      "execution_count": 21,
      "outputs": [
        {
          "output_type": "execute_result",
          "data": {
            "text/plain": [
              "CalibratedClassifierCV(base_estimator=LinearSVC(C=1.0, class_weight='balanced',\n",
              "                                                dual=False, fit_intercept=True,\n",
              "                                                intercept_scaling=1,\n",
              "                                                loss='squared_hinge',\n",
              "                                                max_iter=100000.0,\n",
              "                                                multi_class='ovr', penalty='l2',\n",
              "                                                random_state=None, tol=0.01,\n",
              "                                                verbose=0),\n",
              "                       cv=None, method='sigmoid')"
            ]
          },
          "metadata": {
            "tags": []
          },
          "execution_count": 21
        }
      ]
    },
    {
      "cell_type": "markdown",
      "metadata": {
        "id": "w_oKytPiWQ5E"
      },
      "source": [
        "# Save Model"
      ]
    },
    {
      "cell_type": "code",
      "metadata": {
        "colab": {
          "base_uri": "https://localhost:8080/"
        },
        "id": "4uo34jpGWTwT",
        "outputId": "fa10fa42-9d88-491f-9485-bbd1f7a1600e"
      },
      "source": [
        "dump(vectorizer, \"vectorizer.joblib\")\n",
        "dump(best_cclf, \"bestmodel.joblib\")"
      ],
      "execution_count": 22,
      "outputs": [
        {
          "output_type": "execute_result",
          "data": {
            "text/plain": [
              "['bestmodel.joblib']"
            ]
          },
          "metadata": {
            "tags": []
          },
          "execution_count": 22
        }
      ]
    },
    {
      "cell_type": "code",
      "metadata": {
        "id": "QC3Ay0L_LNyS"
      },
      "source": [
        "!cp /content/bestmodel.joblib  /content/drive/MyDrive/ExpertSystem/"
      ],
      "execution_count": 23,
      "outputs": []
    },
    {
      "cell_type": "code",
      "metadata": {
        "id": "5ehG9F9eLWgf"
      },
      "source": [
        "!cp /content/vectorizer.joblib  /content/drive/MyDrive/ExpertSystem/"
      ],
      "execution_count": 24,
      "outputs": []
    },
    {
      "cell_type": "markdown",
      "metadata": {
        "id": "05-Pzk8oWc-A"
      },
      "source": [
        "# Test"
      ]
    },
    {
      "cell_type": "code",
      "metadata": {
        "colab": {
          "base_uri": "https://localhost:8080/"
        },
        "id": "fnMoQ0bgJGTm",
        "outputId": "d0691855-14c3-491c-9aae-dc8c6b6ce893"
      },
      "source": [
        "test_str = str(input())"
      ],
      "execution_count": 25,
      "outputs": [
        {
          "output_type": "stream",
          "text": [
            "I will throw you out idiot\n"
          ],
          "name": "stdout"
        }
      ]
    },
    {
      "cell_type": "code",
      "metadata": {
        "id": "5gP3jYl7JMbK"
      },
      "source": [
        "test_x=vectorizer.transform([test_str])"
      ],
      "execution_count": 26,
      "outputs": []
    },
    {
      "cell_type": "code",
      "metadata": {
        "colab": {
          "base_uri": "https://localhost:8080/"
        },
        "id": "sF2jJSj_JYWh",
        "outputId": "a2ad320d-7ddb-43b6-9dd7-a432721e59d5"
      },
      "source": [
        "cclf.predict(test_x)"
      ],
      "execution_count": 27,
      "outputs": [
        {
          "output_type": "execute_result",
          "data": {
            "text/plain": [
              "array([1])"
            ]
          },
          "metadata": {
            "tags": []
          },
          "execution_count": 27
        }
      ]
    },
    {
      "cell_type": "code",
      "metadata": {
        "colab": {
          "base_uri": "https://localhost:8080/"
        },
        "id": "ZOEOhsBAJMdt",
        "outputId": "5f6afb5d-7226-42c0-e0ea-d3f9688cd774"
      },
      "source": [
        "cclf.predict_proba(test_x)"
      ],
      "execution_count": 28,
      "outputs": [
        {
          "output_type": "execute_result",
          "data": {
            "text/plain": [
              "array([[3.78139952e-04, 9.99621860e-01]])"
            ]
          },
          "metadata": {
            "tags": []
          },
          "execution_count": 28
        }
      ]
    },
    {
      "cell_type": "code",
      "metadata": {
        "colab": {
          "base_uri": "https://localhost:8080/"
        },
        "id": "DbrCAqabKFuO",
        "outputId": "3d45cb57-789f-4a80-afc8-9dfae7259c50"
      },
      "source": [
        "np.max(cclf.predict_proba(test_x))*100"
      ],
      "execution_count": 29,
      "outputs": [
        {
          "output_type": "execute_result",
          "data": {
            "text/plain": [
              "99.96218600476115"
            ]
          },
          "metadata": {
            "tags": []
          },
          "execution_count": 29
        }
      ]
    },
    {
      "cell_type": "code",
      "metadata": {
        "id": "oWf2fTH8JMf1"
      },
      "source": [
        "labels = ['Non Abusive', 'Abusive']"
      ],
      "execution_count": 30,
      "outputs": []
    },
    {
      "cell_type": "code",
      "metadata": {
        "colab": {
          "base_uri": "https://localhost:8080/"
        },
        "id": "8LnAovAcJ0jT",
        "outputId": "6bf3cf19-0a09-4e24-c890-d161df744fef"
      },
      "source": [
        "print(\"Tone: {}, Probability Score: {:.2f}%\".format(labels[cclf.predict(test_x)[0]], (np.max(cclf.predict_proba(test_x))*100))) "
      ],
      "execution_count": 31,
      "outputs": [
        {
          "output_type": "stream",
          "text": [
            "Tone: Abusive, Probability Score: 99.96%\n"
          ],
          "name": "stdout"
        }
      ]
    }
  ]
}