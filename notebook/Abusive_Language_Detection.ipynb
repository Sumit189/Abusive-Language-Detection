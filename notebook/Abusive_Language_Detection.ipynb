{
  "nbformat": 4,
  "nbformat_minor": 0,
  "metadata": {
    "colab": {
      "name": "Abusive Language Detection.ipynb",
      "provenance": [],
      "collapsed_sections": [
        "w_oKytPiWQ5E"
      ],
      "toc_visible": true,
      "mount_file_id": "1CUF4iWX9bXUm801-u3a4QjAo3V9aS6ay",
      "authorship_tag": "ABX9TyPpd0FU+EFzt3ynXzodkWSA",
      "include_colab_link": true
    },
    "kernelspec": {
      "name": "python3",
      "display_name": "Python 3"
    },
    "language_info": {
      "name": "python"
    },
    "accelerator": "GPU"
  },
  "cells": [
    {
      "cell_type": "markdown",
      "metadata": {
        "id": "view-in-github",
        "colab_type": "text"
      },
      "source": [
        "<a href=\"https://colab.research.google.com/github/Sumit189/Abusive-Language-Detection/blob/main/notebook/Abusive_Language_Detection.ipynb\" target=\"_parent\"><img src=\"https://colab.research.google.com/assets/colab-badge.svg\" alt=\"Open In Colab\"/></a>"
      ]
    },
    {
      "cell_type": "code",
      "metadata": {
        "colab": {
          "base_uri": "https://localhost:8080/"
        },
        "id": "XS-E1GLp3n84",
        "outputId": "6325c0c8-a9c9-48bd-d6ac-c8f2dcbf0bd7"
      },
      "source": [
        "!pip install -U scikit-learn"
      ],
      "execution_count": 1,
      "outputs": [
        {
          "output_type": "stream",
          "text": [
            "Collecting scikit-learn\n",
            "\u001b[?25l  Downloading https://files.pythonhosted.org/packages/f3/74/eb899f41d55f957e2591cde5528e75871f817d9fb46d4732423ecaca736d/scikit_learn-0.24.1-cp37-cp37m-manylinux2010_x86_64.whl (22.3MB)\n",
            "\u001b[K     |████████████████████████████████| 22.3MB 133kB/s \n",
            "\u001b[?25hRequirement already satisfied, skipping upgrade: scipy>=0.19.1 in /usr/local/lib/python3.7/dist-packages (from scikit-learn) (1.4.1)\n",
            "Requirement already satisfied, skipping upgrade: joblib>=0.11 in /usr/local/lib/python3.7/dist-packages (from scikit-learn) (1.0.1)\n",
            "Collecting threadpoolctl>=2.0.0\n",
            "  Downloading https://files.pythonhosted.org/packages/f7/12/ec3f2e203afa394a149911729357aa48affc59c20e2c1c8297a60f33f133/threadpoolctl-2.1.0-py3-none-any.whl\n",
            "Requirement already satisfied, skipping upgrade: numpy>=1.13.3 in /usr/local/lib/python3.7/dist-packages (from scikit-learn) (1.19.5)\n",
            "Installing collected packages: threadpoolctl, scikit-learn\n",
            "  Found existing installation: scikit-learn 0.22.2.post1\n",
            "    Uninstalling scikit-learn-0.22.2.post1:\n",
            "      Successfully uninstalled scikit-learn-0.22.2.post1\n",
            "Successfully installed scikit-learn-0.24.1 threadpoolctl-2.1.0\n"
          ],
          "name": "stdout"
        }
      ]
    },
    {
      "cell_type": "code",
      "metadata": {
        "id": "a9P6BPKQIBnA"
      },
      "source": [
        "import pandas as pd\n",
        "import numpy as np\n",
        "from wordcloud import WordCloud\n",
        "import matplotlib.pyplot as plt\n",
        "import sklearn\n",
        "from sklearn.feature_extraction.text import TfidfVectorizer\n",
        "from sklearn.svm import LinearSVC\n",
        "from sklearn.ensemble import RandomForestClassifier\n",
        "from sklearn.calibration import CalibratedClassifierCV\n",
        "from sklearn.tree import DecisionTreeClassifier\n",
        "from sklearn.naive_bayes import GaussianNB\n",
        "from sklearn.metrics import accuracy_score\n",
        "from joblib import dump"
      ],
      "execution_count": 2,
      "outputs": []
    },
    {
      "cell_type": "code",
      "metadata": {
        "colab": {
          "base_uri": "https://localhost:8080/",
          "height": 35
        },
        "id": "TYEiCheA3r5B",
        "outputId": "d920ea0f-b106-476b-8cb3-03c2b75b0ae7"
      },
      "source": [
        "sklearn.__version__"
      ],
      "execution_count": 3,
      "outputs": [
        {
          "output_type": "execute_result",
          "data": {
            "application/vnd.google.colaboratory.intrinsic+json": {
              "type": "string"
            },
            "text/plain": [
              "'0.24.1'"
            ]
          },
          "metadata": {
            "tags": []
          },
          "execution_count": 3
        }
      ]
    },
    {
      "cell_type": "code",
      "metadata": {
        "id": "K23QrqgOLgLc"
      },
      "source": [
        "!cp /content/drive/MyDrive/ExpertSystem/clean_data.csv /content/"
      ],
      "execution_count": 4,
      "outputs": []
    },
    {
      "cell_type": "code",
      "metadata": {
        "id": "R2O_yRASISCy"
      },
      "source": [
        "data = pd.read_csv(\"clean_data.csv\")"
      ],
      "execution_count": 5,
      "outputs": []
    },
    {
      "cell_type": "code",
      "metadata": {
        "colab": {
          "base_uri": "https://localhost:8080/",
          "height": 195
        },
        "id": "svmjD0ZPLu4a",
        "outputId": "63db19c4-de58-4463-c152-fcea87539d5e"
      },
      "source": [
        "data.head()"
      ],
      "execution_count": 6,
      "outputs": [
        {
          "output_type": "execute_result",
          "data": {
            "text/html": [
              "<div>\n",
              "<style scoped>\n",
              "    .dataframe tbody tr th:only-of-type {\n",
              "        vertical-align: middle;\n",
              "    }\n",
              "\n",
              "    .dataframe tbody tr th {\n",
              "        vertical-align: top;\n",
              "    }\n",
              "\n",
              "    .dataframe thead th {\n",
              "        text-align: right;\n",
              "    }\n",
              "</style>\n",
              "<table border=\"1\" class=\"dataframe\">\n",
              "  <thead>\n",
              "    <tr style=\"text-align: right;\">\n",
              "      <th></th>\n",
              "      <th>is_offensive</th>\n",
              "      <th>text</th>\n",
              "    </tr>\n",
              "  </thead>\n",
              "  <tbody>\n",
              "    <tr>\n",
              "      <th>0</th>\n",
              "      <td>0</td>\n",
              "      <td>Then go to the village pump and suggest they c...</td>\n",
              "    </tr>\n",
              "    <tr>\n",
              "      <th>1</th>\n",
              "      <td>1</td>\n",
              "      <td>ANTI GREEK NATIONALIS -WIKIPEDIA \\n\\nHi Alexik...</td>\n",
              "    </tr>\n",
              "    <tr>\n",
              "      <th>2</th>\n",
              "      <td>1</td>\n",
              "      <td>Dis hoe wasnt dis violent on Lottery Ticket 😂😂</td>\n",
              "    </tr>\n",
              "    <tr>\n",
              "      <th>3</th>\n",
              "      <td>0</td>\n",
              "      <td>It is better for Atabay not helping the banned...</td>\n",
              "    </tr>\n",
              "    <tr>\n",
              "      <th>4</th>\n",
              "      <td>0</td>\n",
              "      <td>\"is in CamelCase.  \"\"SiCKO\"\" is not CamelCase,...</td>\n",
              "    </tr>\n",
              "  </tbody>\n",
              "</table>\n",
              "</div>"
            ],
            "text/plain": [
              "   is_offensive                                               text\n",
              "0             0  Then go to the village pump and suggest they c...\n",
              "1             1  ANTI GREEK NATIONALIS -WIKIPEDIA \\n\\nHi Alexik...\n",
              "2             1     Dis hoe wasnt dis violent on Lottery Ticket 😂😂\n",
              "3             0  It is better for Atabay not helping the banned...\n",
              "4             0  \"is in CamelCase.  \"\"SiCKO\"\" is not CamelCase,..."
            ]
          },
          "metadata": {
            "tags": []
          },
          "execution_count": 6
        }
      ]
    },
    {
      "cell_type": "code",
      "metadata": {
        "colab": {
          "base_uri": "https://localhost:8080/"
        },
        "id": "8bV1NgkbL0P6",
        "outputId": "42c02d94-6d40-4253-b499-67af1dd06bb1"
      },
      "source": [
        "count_not_abusive = 0\n",
        "count_abusive = 0\n",
        "for i in data.is_offensive:\n",
        "  if i == 0:\n",
        "    count_not_abusive += 1\n",
        "  else:\n",
        "    count_abusive += 1\n",
        "\n",
        "print(\"Non Abusive: {}\".format(count_not_abusive))\n",
        "print(\"Abusive: {}\".format(count_abusive))"
      ],
      "execution_count": 7,
      "outputs": [
        {
          "output_type": "stream",
          "text": [
            "Non Abusive: 147509\n",
            "Abusive: 36845\n"
          ],
          "name": "stdout"
        }
      ]
    },
    {
      "cell_type": "code",
      "metadata": {
        "id": "AkZ9uBHhV0bd"
      },
      "source": [
        "texts = data[\"text\"].astype(str)\n",
        "y = data[\"is_offensive\"]"
      ],
      "execution_count": 8,
      "outputs": []
    },
    {
      "cell_type": "code",
      "metadata": {
        "colab": {
          "base_uri": "https://localhost:8080/",
          "height": 198
        },
        "id": "FUSRR341Pw5y",
        "outputId": "e70a9734-ad7e-4ff5-a421-e56141b6130b"
      },
      "source": [
        "word_text = \" \".join(map(str, texts))\n",
        "wordcloud = WordCloud(max_font_size=50, max_words=100, background_color=\"white\").generate(word_text)\n",
        "plt.figure()\n",
        "plt.imshow(wordcloud, interpolation=\"bilinear\")\n",
        "plt.axis(\"off\")\n",
        "plt.show()"
      ],
      "execution_count": 9,
      "outputs": [
        {
          "output_type": "display_data",
          "data": {
            "image/png": "[encoded data removed]",
            "text/plain": [
              "<Figure size 432x288 with 1 Axes>"
            ]
          },
          "metadata": {
            "tags": [],
            "needs_background": "light"
          }
        }
      ]
    },
    {
      "cell_type": "code",
      "metadata": {
        "id": "75cTHwBYIW6P"
      },
      "source": [
        "from sklearn.model_selection import train_test_split"
      ],
      "execution_count": 10,
      "outputs": []
    },
    {
      "cell_type": "code",
      "metadata": {
        "id": "0sAIsa2MIVdz"
      },
      "source": [
        "vectorizer = TfidfVectorizer(stop_words=\"english\", min_df=0.0001)\n",
        "X = vectorizer.fit_transform(texts)"
      ],
      "execution_count": 11,
      "outputs": []
    },
    {
      "cell_type": "code",
      "metadata": {
        "id": "kxTuAU1QIcDN"
      },
      "source": [
        "X_train, X_test, y_train, y_test = train_test_split(X,y, test_size = 0.2, random_state = 42)"
      ],
      "execution_count": 12,
      "outputs": []
    },
    {
      "cell_type": "code",
      "metadata": {
        "id": "HV7_DjOPM5bw"
      },
      "source": [
        "rf = RandomForestClassifier(max_depth=100, random_state=0)"
      ],
      "execution_count": 13,
      "outputs": []
    },
    {
      "cell_type": "code",
      "metadata": {
        "colab": {
          "base_uri": "https://localhost:8080/"
        },
        "id": "eVFsVmuDM7vm",
        "outputId": "7cf74ee9-c4af-46d9-d634-288a76671d6f"
      },
      "source": [
        "rf.fit(X_train, y_train)"
      ],
      "execution_count": 14,
      "outputs": [
        {
          "output_type": "execute_result",
          "data": {
            "text/plain": [
              "RandomForestClassifier(max_depth=100, random_state=0)"
            ]
          },
          "metadata": {
            "tags": []
          },
          "execution_count": 14
        }
      ]
    },
    {
      "cell_type": "code",
      "metadata": {
        "colab": {
          "base_uri": "https://localhost:8080/"
        },
        "id": "3DbkP800NDHF",
        "outputId": "2c2f41a0-e70a-4240-dcc3-a7ea9f40c3e2"
      },
      "source": [
        "rf_y_hat = rf.predict(X_test)\n",
        "accuracy_score(rf_y_hat, y_test) "
      ],
      "execution_count": 15,
      "outputs": [
        {
          "output_type": "execute_result",
          "data": {
            "text/plain": [
              "0.942827696563695"
            ]
          },
          "metadata": {
            "tags": []
          },
          "execution_count": 15
        }
      ]
    },
    {
      "cell_type": "code",
      "metadata": {
        "id": "7ZVjpJpMUo_a"
      },
      "source": [
        "rf_score = accuracy_score(rf_y_hat, y_test) "
      ],
      "execution_count": 16,
      "outputs": []
    },
    {
      "cell_type": "code",
      "metadata": {
        "colab": {
          "base_uri": "https://localhost:8080/"
        },
        "id": "jgdousMEIszC",
        "outputId": "a30c84f6-accb-4c5b-bf35-1417bc7ea9cb"
      },
      "source": [
        "model = LinearSVC(class_weight=\"balanced\", dual=False, tol=1e-2, max_iter=1e5)\n",
        "cclf = CalibratedClassifierCV(base_estimator=model)\n",
        "cclf.fit(X_train, y_train)"
      ],
      "execution_count": 17,
      "outputs": [
        {
          "output_type": "execute_result",
          "data": {
            "text/plain": [
              "CalibratedClassifierCV(base_estimator=LinearSVC(class_weight='balanced',\n",
              "                                                dual=False, max_iter=100000.0,\n",
              "                                                tol=0.01))"
            ]
          },
          "metadata": {
            "tags": []
          },
          "execution_count": 17
        }
      ]
    },
    {
      "cell_type": "code",
      "metadata": {
        "colab": {
          "base_uri": "https://localhost:8080/"
        },
        "id": "RMqdX_00IyK8",
        "outputId": "37a1c987-425d-4d1b-dea7-425cf16df43b"
      },
      "source": [
        "y_hat = cclf.predict(X_test)\n",
        "cc_score = accuracy_score(y_hat, y_test) \n",
        "print(cc_score)"
      ],
      "execution_count": 18,
      "outputs": [
        {
          "output_type": "stream",
          "text": [
            "0.9577988120745301\n"
          ],
          "name": "stdout"
        }
      ]
    },
    {
      "cell_type": "code",
      "metadata": {
        "id": "qSoo_fyiXpLJ"
      },
      "source": [
        "dt = DecisionTreeClassifier(random_state=0)"
      ],
      "execution_count": 19,
      "outputs": []
    },
    {
      "cell_type": "code",
      "metadata": {
        "colab": {
          "base_uri": "https://localhost:8080/"
        },
        "id": "wTVCnJgpXty1",
        "outputId": "dcb82fb2-0041-4873-fa60-d2a72a29d74c"
      },
      "source": [
        "dt.fit(X_train, y_train)"
      ],
      "execution_count": 20,
      "outputs": [
        {
          "output_type": "execute_result",
          "data": {
            "text/plain": [
              "DecisionTreeClassifier(random_state=0)"
            ]
          },
          "metadata": {
            "tags": []
          },
          "execution_count": 20
        }
      ]
    },
    {
      "cell_type": "code",
      "metadata": {
        "colab": {
          "base_uri": "https://localhost:8080/"
        },
        "id": "mJfwBxwCXwOy",
        "outputId": "c572cea6-3629-4764-95cc-1a8a515c1d3b"
      },
      "source": [
        "dt_y_hat = dt.predict(X_test)\n",
        "dt_score = accuracy_score(dt_y_hat, y_test)\n",
        "print(dt_score)"
      ],
      "execution_count": 21,
      "outputs": [
        {
          "output_type": "stream",
          "text": [
            "0.9433972498711725\n"
          ],
          "name": "stdout"
        }
      ]
    },
    {
      "cell_type": "code",
      "metadata": {
        "colab": {
          "base_uri": "https://localhost:8080/",
          "height": 338
        },
        "id": "pttgF02gT_vE",
        "outputId": "425affc9-c3cf-42c7-fe37-fb763333aa53"
      },
      "source": [
        "fig = plt.figure()\n",
        "ax = fig.add_axes([0,0,1,1])\n",
        "classifiers = ['Random Forest', 'Calibrated Classifier', 'Decision Tree']\n",
        "acc = [rf_score, cc_score, dt_score]\n",
        "ax.bar(classifiers,acc)\n",
        "plt.show()"
      ],
      "execution_count": 22,
      "outputs": [
        {
          "output_type": "display_data",
          "data": {
            "image/png": "[encoded data removed]",
            "text/plain": [
              "<Figure size 432x288 with 1 Axes>"
            ]
          },
          "metadata": {
            "tags": [],
            "needs_background": "light"
          }
        }
      ]
    },
    {
      "cell_type": "markdown",
      "metadata": {
        "id": "Bn5oeGX_WMjg"
      },
      "source": [
        "# Train on Whole Set"
      ]
    },
    {
      "cell_type": "code",
      "metadata": {
        "colab": {
          "base_uri": "https://localhost:8080/"
        },
        "id": "Ryzuqn7rWPqs",
        "outputId": "824192a9-1290-46a9-d95b-a6b67c66eb7d"
      },
      "source": [
        "model = LinearSVC(class_weight=\"balanced\", dual=False, tol=1e-2, max_iter=1e5)\n",
        "best_cclf = CalibratedClassifierCV(base_estimator=model)\n",
        "best_cclf.fit(X, y)"
      ],
      "execution_count": 23,
      "outputs": [
        {
          "output_type": "execute_result",
          "data": {
            "text/plain": [
              "CalibratedClassifierCV(base_estimator=LinearSVC(class_weight='balanced',\n",
              "                                                dual=False, max_iter=100000.0,\n",
              "                                                tol=0.01))"
            ]
          },
          "metadata": {
            "tags": []
          },
          "execution_count": 23
        }
      ]
    },
    {
      "cell_type": "markdown",
      "metadata": {
        "id": "w_oKytPiWQ5E"
      },
      "source": [
        "# Save Model"
      ]
    },
    {
      "cell_type": "code",
      "metadata": {
        "colab": {
          "base_uri": "https://localhost:8080/"
        },
        "id": "4uo34jpGWTwT",
        "outputId": "821b9593-dd13-49e0-c407-3c4e487b4088"
      },
      "source": [
        "dump(vectorizer, \"vectorizer.joblib\")\n",
        "dump(best_cclf, \"bestmodel.joblib\")"
      ],
      "execution_count": 24,
      "outputs": [
        {
          "output_type": "execute_result",
          "data": {
            "text/plain": [
              "['bestmodel.joblib']"
            ]
          },
          "metadata": {
            "tags": []
          },
          "execution_count": 24
        }
      ]
    },
    {
      "cell_type": "code",
      "metadata": {
        "id": "QC3Ay0L_LNyS"
      },
      "source": [
        "!cp /content/bestmodel.joblib  /content/drive/MyDrive/ExpertSystem/"
      ],
      "execution_count": 25,
      "outputs": []
    },
    {
      "cell_type": "code",
      "metadata": {
        "id": "5ehG9F9eLWgf"
      },
      "source": [
        "!cp /content/vectorizer.joblib  /content/drive/MyDrive/ExpertSystem/"
      ],
      "execution_count": 26,
      "outputs": []
    },
    {
      "cell_type": "markdown",
      "metadata": {
        "id": "05-Pzk8oWc-A"
      },
      "source": [
        "# Test"
      ]
    },
    {
      "cell_type": "code",
      "metadata": {
        "colab": {
          "base_uri": "https://localhost:8080/"
        },
        "id": "fnMoQ0bgJGTm",
        "outputId": "812e6f7c-dfdf-4e3a-fd80-4bcaf0efa8d3"
      },
      "source": [
        "test_str = str(input())"
      ],
      "execution_count": 27,
      "outputs": [
        {
          "output_type": "stream",
          "text": [
            "I will throw you out idiot\n"
          ],
          "name": "stdout"
        }
      ]
    },
    {
      "cell_type": "code",
      "metadata": {
        "id": "5gP3jYl7JMbK"
      },
      "source": [
        "test_x=vectorizer.transform([test_str])"
      ],
      "execution_count": 28,
      "outputs": []
    },
    {
      "cell_type": "code",
      "metadata": {
        "colab": {
          "base_uri": "https://localhost:8080/"
        },
        "id": "sF2jJSj_JYWh",
        "outputId": "2e4a6421-78ee-4d73-c907-f690aeea36a1"
      },
      "source": [
        "cclf.predict(test_x)"
      ],
      "execution_count": 29,
      "outputs": [
        {
          "output_type": "execute_result",
          "data": {
            "text/plain": [
              "array([1])"
            ]
          },
          "metadata": {
            "tags": []
          },
          "execution_count": 29
        }
      ]
    },
    {
      "cell_type": "code",
      "metadata": {
        "colab": {
          "base_uri": "https://localhost:8080/"
        },
        "id": "ZOEOhsBAJMdt",
        "outputId": "40b30dc6-6bc2-4590-885a-76bc690a47e0"
      },
      "source": [
        "cclf.predict_proba(test_x)"
      ],
      "execution_count": 30,
      "outputs": [
        {
          "output_type": "execute_result",
          "data": {
            "text/plain": [
              "array([[3.78139952e-04, 9.99621860e-01]])"
            ]
          },
          "metadata": {
            "tags": []
          },
          "execution_count": 30
        }
      ]
    },
    {
      "cell_type": "code",
      "metadata": {
        "colab": {
          "base_uri": "https://localhost:8080/"
        },
        "id": "DbrCAqabKFuO",
        "outputId": "fb92fcc7-21b3-4f79-9f64-cc049a1d8326"
      },
      "source": [
        "np.max(cclf.predict_proba(test_x))*100"
      ],
      "execution_count": 31,
      "outputs": [
        {
          "output_type": "execute_result",
          "data": {
            "text/plain": [
              "99.96218600476115"
            ]
          },
          "metadata": {
            "tags": []
          },
          "execution_count": 31
        }
      ]
    },
    {
      "cell_type": "code",
      "metadata": {
        "id": "oWf2fTH8JMf1"
      },
      "source": [
        "labels = ['Non Abusive', 'Abusive']"
      ],
      "execution_count": 32,
      "outputs": []
    },
    {
      "cell_type": "code",
      "metadata": {
        "colab": {
          "base_uri": "https://localhost:8080/"
        },
        "id": "8LnAovAcJ0jT",
        "outputId": "47acc975-a82e-451d-cb8a-2eeeb4272cf8"
      },
      "source": [
        "print(\"Tone: {}, Probability Score: {:.2f}%\".format(labels[cclf.predict(test_x)[0]], (np.max(cclf.predict_proba(test_x))*100))) "
      ],
      "execution_count": 33,
      "outputs": [
        {
          "output_type": "stream",
          "text": [
            "Tone: Abusive, Probability Score: 99.96%\n"
          ],
          "name": "stdout"
        }
      ]
    }
  ]
}