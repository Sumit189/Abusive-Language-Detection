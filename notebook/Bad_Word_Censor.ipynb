{
  "nbformat": 4,
  "nbformat_minor": 0,
  "metadata": {
    "colab": {
      "name": "Bad Word Censor.ipynb",
      "provenance": [],
      "collapsed_sections": [],
      "authorship_tag": "ABX9TyOZFrefi0DHBjGPzhnZDzLR",
      "include_colab_link": true
    },
    "kernelspec": {
      "display_name": "Python 3",
      "name": "python3"
    },
    "language_info": {
      "name": "python"
    }
  },
  "cells": [
    {
      "cell_type": "markdown",
      "metadata": {
        "id": "view-in-github",
        "colab_type": "text"
      },
      "source": [
        "<a href=\"https://colab.research.google.com/github/Sumit189/Abusive-Language-Detection/blob/main/notebook/Bad_Word_Censor.ipynb\" target=\"_parent\"><img src=\"https://colab.research.google.com/assets/colab-badge.svg\" alt=\"Open In Colab\"/></a>"
      ]
    },
    {
      "cell_type": "code",
      "metadata": {
        "id": "x285Pi6QnaAG"
      },
      "source": [
        "import spacy\n",
        "import re\n",
        "from spacy.matcher import PhraseMatcher\n",
        "nlp = spacy.load(\"en_core_web_sm\")"
      ],
      "execution_count": 1,
      "outputs": []
    },
    {
      "cell_type": "code",
      "metadata": {
        "id": "JVBibcFsqjON"
      },
      "source": [
        "file1 = open('bad_words.txt')"
      ],
      "execution_count": 2,
      "outputs": []
    },
    {
      "cell_type": "code",
      "metadata": {
        "id": "LkKVCo0DuYPq"
      },
      "source": [
        "bad_list = []\n",
        "for bw in file1.readlines():\n",
        "  bad_list.append(bw.rstrip('\\n'))"
      ],
      "execution_count": 3,
      "outputs": []
    },
    {
      "cell_type": "code",
      "metadata": {
        "colab": {
          "base_uri": "https://localhost:8080/"
        },
        "id": "qaxSTPXVulXA",
        "outputId": "b8a93c00-af69-40bc-a8d8-c9aca601d764"
      },
      "source": [
        "len(bad_list)"
      ],
      "execution_count": 4,
      "outputs": [
        {
          "output_type": "execute_result",
          "data": {
            "text/plain": [
              "418"
            ]
          },
          "metadata": {
            "tags": []
          },
          "execution_count": 4
        }
      ]
    },
    {
      "cell_type": "code",
      "metadata": {
        "colab": {
          "base_uri": "https://localhost:8080/",
          "height": 35
        },
        "id": "OTxmLLLSbpjg",
        "outputId": "5e135466-b067-4761-d04d-20ca4f850593"
      },
      "source": [
        "bad_list[0]"
      ],
      "execution_count": 5,
      "outputs": [
        {
          "output_type": "execute_result",
          "data": {
            "application/vnd.google.colaboratory.intrinsic+json": {
              "type": "string"
            },
            "text/plain": [
              "'@$$'"
            ]
          },
          "metadata": {
            "tags": []
          },
          "execution_count": 5
        }
      ]
    },
    {
      "cell_type": "code",
      "metadata": {
        "id": "HxvXJxOPjLlX"
      },
      "source": [
        "bad_words_patterns = [nlp(text) for text in bad_list]"
      ],
      "execution_count": 6,
      "outputs": []
    },
    {
      "cell_type": "code",
      "metadata": {
        "id": "72gyUCk3jvGQ"
      },
      "source": [
        "matcher = PhraseMatcher(nlp.vocab)"
      ],
      "execution_count": 7,
      "outputs": []
    },
    {
      "cell_type": "code",
      "metadata": {
        "id": "TfKzpESmlnpw"
      },
      "source": [
        "matcher.add('BAD_WORDS', None, *bad_words_patterns)"
      ],
      "execution_count": 8,
      "outputs": []
    },
    {
      "cell_type": "code",
      "metadata": {
        "id": "F1lxvge2l9yO"
      },
      "source": [
        "text = \"These pies are fucking piece of shit\""
      ],
      "execution_count": 9,
      "outputs": []
    },
    {
      "cell_type": "code",
      "metadata": {
        "id": "bKNXkdTKmRQQ"
      },
      "source": [
        "def replace_word_re(text, word, replacement):\n",
        "    return re.sub(word, replacement, text)"
      ],
      "execution_count": 10,
      "outputs": []
    },
    {
      "cell_type": "code",
      "metadata": {
        "id": "3KIJU4g_lxKs"
      },
      "source": [
        "doc = nlp(text)\n",
        "matches = matcher(doc)\n",
        "for match_id, start, end in matches:\n",
        "    rule_id = nlp.vocab.strings[match_id]\n",
        "    span = doc[start : end] \n",
        "    len_of_word = len(span.text)\n",
        "    censor_ = \"*\"*len_of_word\n",
        "    text = replace_word_re(text, span.text ,censor_)"
      ],
      "execution_count": 12,
      "outputs": []
    },
    {
      "cell_type": "code",
      "metadata": {
        "colab": {
          "base_uri": "https://localhost:8080/",
          "height": 35
        },
        "id": "6UXzp_m6l5Eo",
        "outputId": "024f6aa2-b208-4a6a-8193-485d9af23a50"
      },
      "source": [
        "text"
      ],
      "execution_count": 13,
      "outputs": [
        {
          "output_type": "execute_result",
          "data": {
            "application/vnd.google.colaboratory.intrinsic+json": {
              "type": "string"
            },
            "text/plain": [
              "'These pies are ******* piece of ****'"
            ]
          },
          "metadata": {
            "tags": []
          },
          "execution_count": 13
        }
      ]
    }
  ]
}